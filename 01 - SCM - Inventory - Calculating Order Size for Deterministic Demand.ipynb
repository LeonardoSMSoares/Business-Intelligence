{
 "cells": [
  {
   "cell_type": "markdown",
   "metadata": {},
   "source": [
    "# Supply Chain Analysis: Solving Inventory Problems\n",
    "## Calculating Order Size for Deterministic Demand"
   ]
  },
  {
   "cell_type": "code",
   "execution_count": 1,
   "metadata": {},
   "outputs": [],
   "source": [
    "# Libraries\n",
    "import math\n",
    "import numpy as np\n",
    "import pandas as pd\n",
    "import matplotlib\n",
    "import matplotlib.pyplot as plt\n",
    "from matplotlib.ticker import (AutoMinorLocator, MultipleLocator)"
   ]
  },
  {
   "cell_type": "markdown",
   "metadata": {},
   "source": [
    "### Calculate an economic order quantity (EOQ)\n",
    "The number of items that minimizes your total cost:"
   ]
  },
  {
   "cell_type": "markdown",
   "metadata": {},
   "source": [
    "$$\n",
    "EOQ = \\sqrt{\\frac{2 * Setup Cost * Flow Rate}{Holding Cost}}   \n",
    "$$"
   ]
  },
  {
   "cell_type": "code",
   "execution_count": 2,
   "metadata": {},
   "outputs": [
    {
     "name": "stdout",
     "output_type": "stream",
     "text": [
      "Holding Cost: 9.0\n",
      "EOQ: 219.09\n"
     ]
    }
   ],
   "source": [
    "# Calculate EOQ\n",
    "\n",
    "setup_cost = 120.00            # what it costs to place an order\n",
    "flow_rate = 1800               # the number of units that you expect to order in a year (Demand)\n",
    "item_cost = 45.00              # the wholesale costs that you pay for each item\n",
    "inventory_percentage = 0.20    # the percent of an item's value that our company assumes it costs to keep an item on hand for a year\n",
    "\n",
    "holding_cost = item_cost * inventory_percentage\n",
    "\n",
    "eoq = math.sqrt ((2 * setup_cost * flow_rate)/(holding_cost))\n",
    "\n",
    "print('Holding Cost:',round(holding_cost,2))\n",
    "print('EOQ:',round(eoq,2))"
   ]
  },
  {
   "cell_type": "markdown",
   "metadata": {},
   "source": [
    "### Calculate orders per year and time between orders\n",
    "\n",
    "We calculate the economic order quantity, which is the number of items per order, that minimizes your overall cost. With that information in hand, you can determine the number of orders we've placed per year, and also the time between orders. We can use that information to plan our inventory management and order processes effectively."
   ]
  },
  {
   "cell_type": "code",
   "execution_count": 3,
   "metadata": {},
   "outputs": [
    {
     "name": "stdout",
     "output_type": "stream",
     "text": [
      "Demand per year: 1800\n",
      "Orders per year: 8.22\n",
      "Days between orders: 44.43\n"
     ]
    }
   ],
   "source": [
    "# Orders per Year and Time between Orders\n",
    "\n",
    "demand_year = flow_rate             # demand per year\n",
    "orders_year = demand_year / eoq     # orders per year\n",
    "days_between = 365 / orders_year    # days between orders\n",
    "\n",
    "print('Demand per year:',round(demand_year,2))\n",
    "print('Orders per year:',round(orders_year,2))\n",
    "print('Days between orders:',round(days_between,2))"
   ]
  },
  {
   "cell_type": "markdown",
   "metadata": {},
   "source": [
    "### Calculate effects of lead time\n",
    "\n",
    "When you calculate the basic economic order quantity, we assume that orders are delivered immediately and of course, that's unrealistic. We need to consider the time between placing an order and when it's delivered to accurately judge our needs. Let's see how to account for lead time."
   ]
  },
  {
   "cell_type": "code",
   "execution_count": 4,
   "metadata": {},
   "outputs": [
    {
     "name": "stdout",
     "output_type": "stream",
     "text": [
      "Replenishment Level: 14.79\n"
     ]
    }
   ],
   "source": [
    "# Calculate effects of lead time\n",
    "\n",
    "lead_time = 3                                    # lead Time in days\n",
    "replenish_level = (demand_year/365) * lead_time  # Replenishment Level\n",
    "\n",
    "print('Replenishment Level:',round(replenish_level,2))"
   ]
  },
  {
   "cell_type": "markdown",
   "metadata": {},
   "source": [
    "So it appears that if I have 15 items on hand that I place my order and I won't miss any sales based on average demand. You might be wondering if this affects the days between orders. It does, but only the first one because we have a lead time of three days. That means that the first order will need to be placed after 44.43 minus 3 days or 41.43. After that, because none of our parameters change, we will place our order every 44.43 days, but because we start at zero and we need to catch up to demand, the first one will take place about three days early."
   ]
  },
  {
   "cell_type": "markdown",
   "metadata": {},
   "source": [
    "### Determine increased cost of constrained purchases\n",
    "\n",
    "When we calculate an economic order quantity, we identify how many items we should order to minimize order costs. However, we can't always order that exact amount. Suppliers might require we to order in increments of say 30 and our job is to find the lowest cost quantity that we can order while meeting their policy. "
   ]
  },
  {
   "cell_type": "code",
   "execution_count": 5,
   "metadata": {},
   "outputs": [
    {
     "data": {
      "text/html": [
       "<div>\n",
       "<style scoped>\n",
       "    .dataframe tbody tr th:only-of-type {\n",
       "        vertical-align: middle;\n",
       "    }\n",
       "\n",
       "    .dataframe tbody tr th {\n",
       "        vertical-align: top;\n",
       "    }\n",
       "\n",
       "    .dataframe thead th {\n",
       "        text-align: right;\n",
       "    }\n",
       "</style>\n",
       "<table border=\"1\" class=\"dataframe\">\n",
       "  <thead>\n",
       "    <tr style=\"text-align: right;\">\n",
       "      <th></th>\n",
       "      <th>Order Cost</th>\n",
       "      <th>Holding Cost</th>\n",
       "      <th>Total</th>\n",
       "    </tr>\n",
       "    <tr>\n",
       "      <th>Quantity</th>\n",
       "      <th></th>\n",
       "      <th></th>\n",
       "      <th></th>\n",
       "    </tr>\n",
       "  </thead>\n",
       "  <tbody>\n",
       "    <tr>\n",
       "      <th>30</th>\n",
       "      <td>7200.00</td>\n",
       "      <td>135.0</td>\n",
       "      <td>7335.00</td>\n",
       "    </tr>\n",
       "    <tr>\n",
       "      <th>60</th>\n",
       "      <td>3600.00</td>\n",
       "      <td>270.0</td>\n",
       "      <td>3870.00</td>\n",
       "    </tr>\n",
       "    <tr>\n",
       "      <th>90</th>\n",
       "      <td>2400.00</td>\n",
       "      <td>405.0</td>\n",
       "      <td>2805.00</td>\n",
       "    </tr>\n",
       "    <tr>\n",
       "      <th>120</th>\n",
       "      <td>1800.00</td>\n",
       "      <td>540.0</td>\n",
       "      <td>2340.00</td>\n",
       "    </tr>\n",
       "    <tr>\n",
       "      <th>150</th>\n",
       "      <td>1440.00</td>\n",
       "      <td>675.0</td>\n",
       "      <td>2115.00</td>\n",
       "    </tr>\n",
       "    <tr>\n",
       "      <th>180</th>\n",
       "      <td>1200.00</td>\n",
       "      <td>810.0</td>\n",
       "      <td>2010.00</td>\n",
       "    </tr>\n",
       "    <tr>\n",
       "      <th>210</th>\n",
       "      <td>1028.57</td>\n",
       "      <td>945.0</td>\n",
       "      <td>1973.57</td>\n",
       "    </tr>\n",
       "    <tr>\n",
       "      <th>240</th>\n",
       "      <td>900.00</td>\n",
       "      <td>1080.0</td>\n",
       "      <td>1980.00</td>\n",
       "    </tr>\n",
       "    <tr>\n",
       "      <th>270</th>\n",
       "      <td>800.00</td>\n",
       "      <td>1215.0</td>\n",
       "      <td>2015.00</td>\n",
       "    </tr>\n",
       "    <tr>\n",
       "      <th>300</th>\n",
       "      <td>720.00</td>\n",
       "      <td>1350.0</td>\n",
       "      <td>2070.00</td>\n",
       "    </tr>\n",
       "  </tbody>\n",
       "</table>\n",
       "</div>"
      ],
      "text/plain": [
       "          Order Cost  Holding Cost    Total\n",
       "Quantity                                   \n",
       "30           7200.00         135.0  7335.00\n",
       "60           3600.00         270.0  3870.00\n",
       "90           2400.00         405.0  2805.00\n",
       "120          1800.00         540.0  2340.00\n",
       "150          1440.00         675.0  2115.00\n",
       "180          1200.00         810.0  2010.00\n",
       "210          1028.57         945.0  1973.57\n",
       "240           900.00        1080.0  1980.00\n",
       "270           800.00        1215.0  2015.00\n",
       "300           720.00        1350.0  2070.00"
      ]
     },
     "execution_count": 5,
     "metadata": {},
     "output_type": "execute_result"
    }
   ],
   "source": [
    "quantityQ = np.array([30,60,90,120,150,180,210,240,270,300])  # Quantity (the supplier requires us to order in increments of 30)\n",
    "order_costQ = (flow_rate/quantityQ) * setup_cost              # Order Cost by quantity\n",
    "holding_costQ = 0.5 * quantityQ * holding_cost                # Holding Cost based on average inventory (half of the quantity)\n",
    "total_cost = order_costQ + holding_costQ                      # Total Cost (based in Order Cost and Holding Cost)\n",
    "\n",
    "# Create a Data Frame\n",
    "data = {'Quantity': quantityQ, \n",
    "        'Order Cost': order_costQ,\n",
    "        'Holding Cost': holding_costQ,\n",
    "        'Total': total_cost}\n",
    "\n",
    "panel = pd.DataFrame(data)\n",
    "panel = panel.set_index('Quantity')\n",
    "panel['Order Cost'] = panel['Order Cost'].round(decimals = 2)\n",
    "panel['Holding Cost'] = panel['Holding Cost'].round(decimals = 2)\n",
    "panel['Total'] = panel['Total'].round(decimals = 2)\n",
    "panel"
   ]
  },
  {
   "cell_type": "code",
   "execution_count": 6,
   "metadata": {},
   "outputs": [
    {
     "data": {
      "image/png": "[encoded data removed]",
      "text/plain": [
       "<Figure size 1440x576 with 1 Axes>"
      ]
     },
     "metadata": {
      "needs_background": "light"
     },
     "output_type": "display_data"
    }
   ],
   "source": [
    "# Plot Graph\n",
    "\n",
    "fig, ax = plt.subplots(figsize=(20, 8))\n",
    "\n",
    "# Set axis ranges\n",
    "ax.set_xlim(0, 330)\n",
    "ax.set_ylim(1500, 7500)\n",
    "\n",
    "# Change major ticks to show every 30/500.\n",
    "ax.xaxis.set_major_locator(MultipleLocator(30))\n",
    "ax.yaxis.set_major_locator(MultipleLocator(500))\n",
    "\n",
    "# Change minor ticks to show every 10 (30/3 = 10)\n",
    "ax.xaxis.set_minor_locator(AutoMinorLocator(3))\n",
    "ax.yaxis.set_minor_locator(AutoMinorLocator(4))\n",
    "\n",
    "# Turn grid on for both major and minor ticks and style minor slightly differently.\n",
    "ax.grid(which='major', color='#CCCCCC', linestyle='--')\n",
    "ax.grid(which='minor', color='#CCCCCC', linestyle=':')\n",
    "\n",
    "plt.plot(quantityQ, total_cost, linewidth=2.0)\n",
    "plt.scatter(quantityQ, total_cost)\n",
    "plt.xlabel('Quantity', fontsize = 16)               \n",
    "plt.ylabel('Cost', fontsize = 16)         \n",
    "plt.title('Total Cost', fontsize = 20) \n",
    "plt.grid(True)\n",
    "plt.show()"
   ]
  },
  {
   "cell_type": "markdown",
   "metadata": {},
   "source": [
    "### Examine the effect of quantity discounts on cost\n",
    "\n",
    "If you have ever purchased items for a store inventory or T-shirts for a club, you know that manufacturers give discounts if you purchase large quantities of those items. let's see how to calculate the cost of ordering at certain minimum levels to find the lowest overall cost to our business."
   ]
  },
  {
   "cell_type": "markdown",
   "metadata": {},
   "source": [
    "**This table identifies discounts and discounted prices for different ordering levels**\n",
    "\n",
    "| Discount Level | Quantity | Discount | Discount Price |\n",
    "| --- | --- | --- | --- |\n",
    "| 1 | 0 to 150 | 0 | 45.00 |\n",
    "| 2 | 151 to 300 | 2% | 44.10 |\n",
    "| 3 | 301 to 800 | 5% | 42.75 |\n",
    "| 4 | 801 and above | 10% | 40.50 |\n"
   ]
  },
  {
   "cell_type": "code",
   "execution_count": 7,
   "metadata": {},
   "outputs": [
    {
     "name": "stdout",
     "output_type": "stream",
     "text": [
      "EOQ1: 220\n",
      "EOQ1: 222\n",
      "EOQ1: 225\n",
      "EOQ1: 231\n"
     ]
    }
   ],
   "source": [
    "# We need to change our economic order quantity accordingly with the discount level\n",
    "# Remember: holding_cost = item_cost * inventory_percentage\n",
    "\n",
    "eoq1 = math.sqrt ((2 * setup_cost * flow_rate)/(45.00 * inventory_percentage))\n",
    "eoq2 = math.sqrt ((2 * setup_cost * flow_rate)/(44.10 * inventory_percentage))\n",
    "eoq3 = math.sqrt ((2 * setup_cost * flow_rate)/(42.75 * inventory_percentage))\n",
    "eoq4 = math.sqrt ((2 * setup_cost * flow_rate)/(40.50 * inventory_percentage))\n",
    "\n",
    "print('EOQ1:',int(math.ceil(eoq1)))\n",
    "print('EOQ1:',int(math.ceil(eoq2)))\n",
    "print('EOQ1:',int(math.ceil(eoq3)))\n",
    "print('EOQ1:',int(math.ceil(eoq4)))"
   ]
  },
  {
   "cell_type": "code",
   "execution_count": 8,
   "metadata": {},
   "outputs": [
    {
     "data": {
      "text/html": [
       "<div>\n",
       "<style scoped>\n",
       "    .dataframe tbody tr th:only-of-type {\n",
       "        vertical-align: middle;\n",
       "    }\n",
       "\n",
       "    .dataframe tbody tr th {\n",
       "        vertical-align: top;\n",
       "    }\n",
       "\n",
       "    .dataframe thead th {\n",
       "        text-align: right;\n",
       "    }\n",
       "</style>\n",
       "<table border=\"1\" class=\"dataframe\">\n",
       "  <thead>\n",
       "    <tr style=\"text-align: right;\">\n",
       "      <th></th>\n",
       "      <th>Item Price</th>\n",
       "      <th>Order Quantity</th>\n",
       "      <th>Annual Product Cost</th>\n",
       "      <th>Annual Order Cost</th>\n",
       "      <th>Annual Holding Cost</th>\n",
       "      <th>Total Cost</th>\n",
       "    </tr>\n",
       "    <tr>\n",
       "      <th>Discount Level</th>\n",
       "      <th></th>\n",
       "      <th></th>\n",
       "      <th></th>\n",
       "      <th></th>\n",
       "      <th></th>\n",
       "      <th></th>\n",
       "    </tr>\n",
       "  </thead>\n",
       "  <tbody>\n",
       "    <tr>\n",
       "      <th>1</th>\n",
       "      <td>45.00</td>\n",
       "      <td>220</td>\n",
       "      <td>81000.0</td>\n",
       "      <td>981.82</td>\n",
       "      <td>990.00</td>\n",
       "      <td>82971.82</td>\n",
       "    </tr>\n",
       "    <tr>\n",
       "      <th>2</th>\n",
       "      <td>44.10</td>\n",
       "      <td>222</td>\n",
       "      <td>79380.0</td>\n",
       "      <td>972.97</td>\n",
       "      <td>979.02</td>\n",
       "      <td>81331.99</td>\n",
       "    </tr>\n",
       "    <tr>\n",
       "      <th>3</th>\n",
       "      <td>42.75</td>\n",
       "      <td>301</td>\n",
       "      <td>76950.0</td>\n",
       "      <td>717.61</td>\n",
       "      <td>1286.78</td>\n",
       "      <td>78954.38</td>\n",
       "    </tr>\n",
       "    <tr>\n",
       "      <th>4</th>\n",
       "      <td>40.50</td>\n",
       "      <td>801</td>\n",
       "      <td>72900.0</td>\n",
       "      <td>269.66</td>\n",
       "      <td>3244.05</td>\n",
       "      <td>76413.71</td>\n",
       "    </tr>\n",
       "  </tbody>\n",
       "</table>\n",
       "</div>"
      ],
      "text/plain": [
       "                Item Price  Order Quantity  Annual Product Cost  \\\n",
       "Discount Level                                                    \n",
       "1                    45.00             220              81000.0   \n",
       "2                    44.10             222              79380.0   \n",
       "3                    42.75             301              76950.0   \n",
       "4                    40.50             801              72900.0   \n",
       "\n",
       "                Annual Order Cost  Annual Holding Cost  Total Cost  \n",
       "Discount Level                                                      \n",
       "1                          981.82               990.00    82971.82  \n",
       "2                          972.97               979.02    81331.99  \n",
       "3                          717.61              1286.78    78954.38  \n",
       "4                          269.66              3244.05    76413.71  "
      ]
     },
     "execution_count": 8,
     "metadata": {},
     "output_type": "execute_result"
    }
   ],
   "source": [
    "discount_level = np.array([1,2,3,4])                   # Discount Level\n",
    "item_price = np.array([45.00, 44.10, 42.75, 40.50])    # Item Price\n",
    "order_quant = np.array([220,222,301,801])              # Order Quantity (based in EOQ's and Quantity Level)\n",
    "annual_PC = flow_rate * item_price                     # Annual Product Cost\n",
    "annual_OC = (setup_cost*flow_rate)/order_quant         # Annual Order Cost\n",
    "\n",
    "# Annual Holding Cost (average of Item Price x Order Quantity x Inventory Percentage)\n",
    "annual_HC = 0.5 * item_price * order_quant * inventory_percentage  \n",
    "\n",
    "totalC = annual_PC + annual_OC + annual_HC    # Total Cost\n",
    "\n",
    "# Create a Data Frame\n",
    "data2 = {'Discount Level': discount_level, \n",
    "        'Item Price': item_price,\n",
    "        'Order Quantity': order_quant,\n",
    "        'Annual Product Cost': annual_PC,\n",
    "        'Annual Order Cost': annual_OC,\n",
    "        'Annual Holding Cost': annual_HC,\n",
    "        'Total Cost': totalC}\n",
    "\n",
    "discef = pd.DataFrame(data2)\n",
    "discef = discef.set_index('Discount Level')\n",
    "discef['Annual Product Cost'] = discef['Annual Product Cost'].round(decimals = 2)\n",
    "discef['Annual Order Cost'] = discef['Annual Order Cost'].round(decimals = 2)\n",
    "discef['Annual Holding Cost'] = discef['Annual Holding Cost'].round(decimals = 2)\n",
    "discef['Total Cost'] = discef['Total Cost'].round(decimals = 2)\n",
    "discef"
   ]
  },
  {
   "cell_type": "markdown",
   "metadata": {},
   "source": [
    "### Calculate production order quantities\n",
    "Until now, we've taken on the role of a retailer that orders goods from suppliers. Now we will assume we're a manufacturer with our own production facility. Given a certain level of demand and other information, what quantity of products should we ask our production facility to make every day?"
   ]
  },
  {
   "cell_type": "markdown",
   "metadata": {},
   "source": [
    "$$\n",
    "Q = \\sqrt{\\frac{2 * Setup Cost * Flow Rate}{Holding Cost * (1 - \\frac{Daily Demand}{Daily Production Rate})}}   \n",
    "$$"
   ]
  },
  {
   "cell_type": "code",
   "execution_count": 9,
   "metadata": {},
   "outputs": [
    {
     "name": "stdout",
     "output_type": "stream",
     "text": [
      "Efficient Production Quantity: 354 items.\n"
     ]
    }
   ],
   "source": [
    "# Production Orders\n",
    "\n",
    "demand = 2500      # Demand (the number of items that your customers buy from you by year\n",
    "setup_cost = 150   # Setup Cost (what it costs you to initiate a production run)\n",
    "holding_cost = 10  # Holding Cost (holding costs of each item by year)\n",
    "daily_PR = 25      # Daily Production Rate (how many items your factory or facility can turn out in a day)\n",
    "daily_DR = 10      # Daily Demand Rate (the annual demand of 2,500 divided by 250 working days in a year )\n",
    "\n",
    "# Efficient Production Quantity \n",
    "qProd = math.sqrt ((2 * setup_cost * demand)/(holding_cost *(1 - (daily_DR/daily_PR))))\n",
    "\n",
    "print('Efficient Production Quantity:',round(qProd),'items.')"
   ]
  }
 ],
 "metadata": {
  "kernelspec": {
   "display_name": "Python 3",
   "language": "python",
   "name": "python3"
  },
  "language_info": {
   "codemirror_mode": {
    "name": "ipython",
    "version": 3
   },
   "file_extension": ".py",
   "mimetype": "text/x-python",
   "name": "python",
   "nbconvert_exporter": "python",
   "pygments_lexer": "ipython3",
   "version": "3.8.5"
  }
 },
 "nbformat": 4,
 "nbformat_minor": 4
}
