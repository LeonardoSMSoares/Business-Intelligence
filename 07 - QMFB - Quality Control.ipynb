{
 "cells": [
  {
   "cell_type": "markdown",
   "metadata": {},
   "source": [
    "# Quantitative Methods for Business\n",
    "## Quality Control"
   ]
  },
  {
   "cell_type": "code",
   "execution_count": 1,
   "metadata": {},
   "outputs": [],
   "source": [
    "# libraries\n",
    "import numpy as np\n",
    "import pandas as pd\n",
    "import math\n",
    "import scipy\n",
    "from scipy.stats import norm"
   ]
  },
  {
   "cell_type": "markdown",
   "metadata": {},
   "source": [
    "**1 - Svenson Eletronics make light fittings on an assembly line. When the electric wiring is fitted, faults are produced to 4% of units. An inspection at this point would find 95% of faults, with costs of\\\\$2 for the inspection and \\\\$3 to correct a fault. Any fault not found continues down the line and is detected and corrected later at a cost of \\\\$20. Whithout the inspection after wiring, later tests cost an extra \\$1.20 a unit and each fault corrected costs \\\\$40. Is it worth inspecting light fittings after the wiring?**"
   ]
  },
  {
   "cell_type": "code",
   "execution_count": 2,
   "metadata": {},
   "outputs": [
    {
     "name": "stdout",
     "output_type": "stream",
     "text": [
      "Cost of faults detected on time: 0.114\n",
      "Cost of faults not found on time: 0.04\n",
      "Cost of correct faults in a lot: 1.6\n",
      "\n",
      "Total cost with inspection (unit): 2.154\n",
      "Total cost without inspection (unit): 2.8\n"
     ]
    }
   ],
   "source": [
    "c_insp = 2   # Cost of inspection\n",
    "c_rep = 3    # Cost to repair each fault founded\n",
    "c_lat = 20   # Cost of late repair\n",
    "c_lte = 1.20 # Cost of later tests\n",
    "c_cfa = 40   # Cost of correct faults\n",
    "\n",
    "c_fdcw = 0.04 * 0.95 * c_rep        # Cost of faults detected and corrected after wiring\n",
    "c_fnf = 0.04 * 0.05 * c_lat         # Cost of faults not found until later (faults not founded)\n",
    "totinsp = c_insp + c_fdcw + c_fnf   # Total cost with inspection\n",
    "\n",
    "c_after = 0.04 * c_cfa      # Cost of correct faults in a lot\n",
    "totwins = c_lte + c_after   # Total cost without inspection\n",
    "\n",
    "print('Cost of faults detected on time:', round(c_fdcw,4))\n",
    "print('Cost of faults not found on time:', round(c_fnf,4))\n",
    "print('Cost of correct faults in a lot:', round(c_after,4))\n",
    "print()\n",
    "print('Total cost with inspection (unit):', round(totinsp,4))\n",
    "print('Total cost without inspection (unit):', round(totwins,4))"
   ]
  },
  {
   "cell_type": "markdown",
   "metadata": {},
   "source": [
    "**2 - A batch of materials arrives at a service bay, where a sample of 40 units is found to have a mean weight of 25 kg and standard deviation of 1 kg. Within what range is the bay 95\\% certain that the mean weight of units in the batch lies?**"
   ]
  },
  {
   "cell_type": "code",
   "execution_count": 3,
   "metadata": {},
   "outputs": [
    {
     "name": "stdout",
     "output_type": "stream",
     "text": [
      "unbiased_std: 0.16\n",
      "z (95%): 1.96\n",
      "\n",
      "Is 95% certain that the mean weight in the batch is between 25.31 and 24.69\n"
     ]
    }
   ],
   "source": [
    "mean = 25\n",
    "std_dev = 1\n",
    "\n",
    "unbiased_std = 1/(np.sqrt(40-1))\n",
    "\n",
    "z = norm.ppf(0.975) # 95% confidence interval = 1.960, 5% div 2 because is a two tail area.\n",
    "\n",
    "upper = mean + z * unbiased_std\n",
    "lower = mean - z * unbiased_std\n",
    "\n",
    "print('unbiased_std:', round(unbiased_std,2))\n",
    "print('z (95%):', round(z,2))\n",
    "print()\n",
    "print('Is 95% certain that the mean weight in the batch is between', round(upper,2), 'and', round(lower,2))"
   ]
  },
  {
   "cell_type": "markdown",
   "metadata": {},
   "source": [
    "**3 - SemiShan Communications use outside agents to check details of their contracts with customers. They insist that the agents make errors in fewer than 4% of contracts. One day they receive a large shipment of contracts from the agents. They take a sample of 200 contracts and check them. What criterion should SemiShan use to reject a batch if it wants to be 95% sure of not making a mistake?**"
   ]
  },
  {
   "cell_type": "code",
   "execution_count": 4,
   "metadata": {},
   "outputs": [
    {
     "name": "stdout",
     "output_type": "stream",
     "text": [
      "Standard Deviation: 0.0139\n",
      "Z: 1.96\n",
      "E: 0.0272\n",
      "95% C.I.: (0.0128, 0.0672)\n",
      "Reject batch if number of error is above: 14\n"
     ]
    }
   ],
   "source": [
    "n = 200              # > 30, Normal Distribution\n",
    "mu = 0.04\n",
    "\n",
    "s = np.sqrt((mu * (1 - mu))/n)\n",
    "print('Standard Deviation:', round(s,4))\n",
    "\n",
    "alpha_2 = 0.025      # 95%, 2 tails... 0.025\n",
    "par = 1 - alpha_2\n",
    "z = norm.ppf(par)    # 1 - alpha_2   \n",
    "print('Z:', round(z,2))\n",
    "\n",
    "E = z * s\n",
    "print('E:', round(E,4))\n",
    "\n",
    "lcb = round(mu - E,4)\n",
    "ucb = round(mu + E,4)\n",
    "print('95% C.I.:',(lcb,ucb))\n",
    "\n",
    "# We should reject a batch when the number of errors is above ucb\n",
    "numb = math.ceil(ucb*n)\n",
    "print('Reject batch if number of error is above:',numb)  "
   ]
  }
 ],
 "metadata": {
  "kernelspec": {
   "display_name": "Python 3",
   "language": "python",
   "name": "python3"
  },
  "language_info": {
   "codemirror_mode": {
    "name": "ipython",
    "version": 3
   },
   "file_extension": ".py",
   "mimetype": "text/x-python",
   "name": "python",
   "nbconvert_exporter": "python",
   "pygments_lexer": "ipython3",
   "version": "3.8.5"
  }
 },
 "nbformat": 4,
 "nbformat_minor": 4
}
