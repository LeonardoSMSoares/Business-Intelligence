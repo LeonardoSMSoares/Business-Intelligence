{
 "cells": [
  {
   "cell_type": "markdown",
   "metadata": {},
   "source": [
    "# Marketing Data Science Modeling\n",
    "## Measuring and Modeling Individual Preferences"
   ]
  },
  {
   "cell_type": "markdown",
   "metadata": {},
   "source": [
    "**Conjoint measurement**, a critical tool of marketing data science, focuses on buyers or the demand side of markets. Primary applications of conjoint analysis fall under the headings of new product design and pricing research.\n",
    "\n",
    "A linear model fit to preference rankings is an example of traditional conjoint analysis, a modeling technique designed to show how product attributes affect purchasing decisions. Conjoint analysis is really conjoint measurement. Marketing analysts present product profiles to consumers. Product profiles are defined by their attributes. By ranking, rating, or choosing products,\n",
    "consumers reveal their preferences for products and the corresponding attributes that define products. The computed attribute importance values and part-worths associated with levels of attributes represent measurements that are obtained as a group or jointly—thus the name conjoint analysis. The task—ranking, rating, or choosing—can take many forms.\n",
    "\n",
    "When doing conjoint analysis, we utilize sum contrasts, so that the sum of the fitted regression coefficients across the levels of each attribute is zero. The fitted regression coefficients represent conjoint measures of utility called part-worths. Part-worths reflect the strength of individual consumer preferences for each level of each attribute in the study. Positive part-worths add to a product’s value in the mind of the consumer. Negative part-worths subtract from that value. When we sum across the part-worths of a product, we obtain a measure of the utility or benefit to the consumer."
   ]
  },
  {
   "cell_type": "markdown",
   "metadata": {},
   "source": [
    "### Libraries"
   ]
  },
  {
   "cell_type": "code",
   "execution_count": 1,
   "metadata": {},
   "outputs": [],
   "source": [
    "# prepare for Python version 3x features and functions\n",
    "from __future__ import division, print_function\n",
    "\n",
    "# import packages for analysis and modeling\n",
    "import pandas as pd                    # data frame operations\n",
    "import numpy as np                     # arrays and math functions\n",
    "import statsmodels.api as sm           # statistical models (including regression)\n",
    "import statsmodels.formula.api as smf  # R-like model specification\n",
    "from patsy.contrasts import Sum\n",
    "from enum import unique\n",
    "\n",
    "import warnings\n",
    "warnings.filterwarnings(\"ignore\")"
   ]
  },
  {
   "cell_type": "markdown",
   "metadata": {},
   "source": [
    "### Read Data"
   ]
  },
  {
   "cell_type": "code",
   "execution_count": 2,
   "metadata": {},
   "outputs": [
    {
     "data": {
      "text/html": [
       "<div>\n",
       "<style scoped>\n",
       "    .dataframe tbody tr th:only-of-type {\n",
       "        vertical-align: middle;\n",
       "    }\n",
       "\n",
       "    .dataframe tbody tr th {\n",
       "        vertical-align: top;\n",
       "    }\n",
       "\n",
       "    .dataframe thead th {\n",
       "        text-align: right;\n",
       "    }\n",
       "</style>\n",
       "<table border=\"1\" class=\"dataframe\">\n",
       "  <thead>\n",
       "    <tr style=\"text-align: right;\">\n",
       "      <th></th>\n",
       "      <th>brand</th>\n",
       "      <th>startup</th>\n",
       "      <th>monthly</th>\n",
       "      <th>service</th>\n",
       "      <th>retail</th>\n",
       "      <th>apple</th>\n",
       "      <th>samsung</th>\n",
       "      <th>google</th>\n",
       "      <th>ranking</th>\n",
       "    </tr>\n",
       "  </thead>\n",
       "  <tbody>\n",
       "    <tr>\n",
       "      <th>0</th>\n",
       "      <td>\"AT&amp;T\"</td>\n",
       "      <td>\"$100\"</td>\n",
       "      <td>\"$100\"</td>\n",
       "      <td>\"4G NO\"</td>\n",
       "      <td>\"Retail NO\"</td>\n",
       "      <td>\"Apple NO\"</td>\n",
       "      <td>\"Samsung NO\"</td>\n",
       "      <td>\"Nexus NO\"</td>\n",
       "      <td>11</td>\n",
       "    </tr>\n",
       "    <tr>\n",
       "      <th>1</th>\n",
       "      <td>\"Verizon\"</td>\n",
       "      <td>\"$300\"</td>\n",
       "      <td>\"$100\"</td>\n",
       "      <td>\"4G NO\"</td>\n",
       "      <td>\"Retail YES\"</td>\n",
       "      <td>\"Apple YES\"</td>\n",
       "      <td>\"Samsung YES\"</td>\n",
       "      <td>\"Nexus NO\"</td>\n",
       "      <td>12</td>\n",
       "    </tr>\n",
       "    <tr>\n",
       "      <th>2</th>\n",
       "      <td>\"US Cellular\"</td>\n",
       "      <td>\"$400\"</td>\n",
       "      <td>\"$200\"</td>\n",
       "      <td>\"4G NO\"</td>\n",
       "      <td>\"Retail NO\"</td>\n",
       "      <td>\"Apple NO\"</td>\n",
       "      <td>\"Samsung YES\"</td>\n",
       "      <td>\"Nexus NO\"</td>\n",
       "      <td>9</td>\n",
       "    </tr>\n",
       "    <tr>\n",
       "      <th>3</th>\n",
       "      <td>\"Verizon\"</td>\n",
       "      <td>\"$400\"</td>\n",
       "      <td>\"$400\"</td>\n",
       "      <td>\"4G YES\"</td>\n",
       "      <td>\"Retail YES\"</td>\n",
       "      <td>\"Apple NO\"</td>\n",
       "      <td>\"Samsung NO\"</td>\n",
       "      <td>\"Nexus NO\"</td>\n",
       "      <td>2</td>\n",
       "    </tr>\n",
       "    <tr>\n",
       "      <th>4</th>\n",
       "      <td>\"Verizon\"</td>\n",
       "      <td>\"$200\"</td>\n",
       "      <td>\"$300\"</td>\n",
       "      <td>\"4G NO\"</td>\n",
       "      <td>\"Retail NO\"</td>\n",
       "      <td>\"Apple NO\"</td>\n",
       "      <td>\"Samsung YES\"</td>\n",
       "      <td>\"Nexus YES\"</td>\n",
       "      <td>8</td>\n",
       "    </tr>\n",
       "  </tbody>\n",
       "</table>\n",
       "</div>"
      ],
      "text/plain": [
       "           brand startup monthly   service        retail        apple  \\\n",
       "0         \"AT&T\"  \"$100\"  \"$100\"   \"4G NO\"   \"Retail NO\"   \"Apple NO\"   \n",
       "1      \"Verizon\"  \"$300\"  \"$100\"   \"4G NO\"  \"Retail YES\"  \"Apple YES\"   \n",
       "2  \"US Cellular\"  \"$400\"  \"$200\"   \"4G NO\"   \"Retail NO\"   \"Apple NO\"   \n",
       "3      \"Verizon\"  \"$400\"  \"$400\"  \"4G YES\"  \"Retail YES\"   \"Apple NO\"   \n",
       "4      \"Verizon\"  \"$200\"  \"$300\"   \"4G NO\"   \"Retail NO\"   \"Apple NO\"   \n",
       "\n",
       "         samsung       google  ranking  \n",
       "0   \"Samsung NO\"   \"Nexus NO\"       11  \n",
       "1  \"Samsung YES\"   \"Nexus NO\"       12  \n",
       "2  \"Samsung YES\"   \"Nexus NO\"        9  \n",
       "3   \"Samsung NO\"   \"Nexus NO\"        2  \n",
       "4  \"Samsung YES\"  \"Nexus YES\"        8  "
      ]
     },
     "execution_count": 2,
     "metadata": {},
     "output_type": "execute_result"
    }
   ],
   "source": [
    "conjoint_data_frame = pd.read_csv('data/mobile_services_ranking.csv')\n",
    "conjoint_data_frame.head()"
   ]
  },
  {
   "cell_type": "code",
   "execution_count": 3,
   "metadata": {},
   "outputs": [
    {
     "name": "stdout",
     "output_type": "stream",
     "text": [
      "<class 'pandas.core.frame.DataFrame'>\n",
      "RangeIndex: 16 entries, 0 to 15\n",
      "Data columns (total 9 columns):\n",
      " #   Column   Non-Null Count  Dtype \n",
      "---  ------   --------------  ----- \n",
      " 0   brand    16 non-null     object\n",
      " 1   startup  16 non-null     object\n",
      " 2   monthly  16 non-null     object\n",
      " 3   service  16 non-null     object\n",
      " 4   retail   16 non-null     object\n",
      " 5   apple    16 non-null     object\n",
      " 6   samsung  16 non-null     object\n",
      " 7   google   16 non-null     object\n",
      " 8   ranking  16 non-null     int64 \n",
      "dtypes: int64(1), object(8)\n",
      "memory usage: 1.2+ KB\n"
     ]
    }
   ],
   "source": [
    "conjoint_data_frame.info()"
   ]
  },
  {
   "cell_type": "markdown",
   "metadata": {},
   "source": [
    "### Fit the Model"
   ]
  },
  {
   "cell_type": "code",
   "execution_count": 4,
   "metadata": {},
   "outputs": [
    {
     "name": "stdout",
     "output_type": "stream",
     "text": [
      "                            OLS Regression Results                            \n",
      "==============================================================================\n",
      "Dep. Variable:                ranking   R-squared:                       0.999\n",
      "Model:                            OLS   Adj. R-squared:                  0.989\n",
      "Method:                 Least Squares   F-statistic:                     97.07\n",
      "Date:                Mon, 11 Jul 2022   Prob (F-statistic):             0.0794\n",
      "Time:                        18:56:16   Log-Likelihood:                 10.568\n",
      "No. Observations:                  16   AIC:                             8.864\n",
      "Df Residuals:                       1   BIC:                             20.45\n",
      "Df Model:                          14                                         \n",
      "Covariance Type:            nonrobust                                         \n",
      "===================================================================================================\n",
      "                                      coef    std err          t      P>|t|      [0.025      0.975]\n",
      "---------------------------------------------------------------------------------------------------\n",
      "Intercept                           8.5000      0.125     68.000      0.009       6.912      10.088\n",
      "C(brand, Sum)[S.\"AT&T\"]         -1.332e-14      0.217  -6.15e-14      1.000      -2.751       2.751\n",
      "C(brand, Sum)[S.\"T-Mobile\"]        -0.2500      0.217     -1.155      0.454      -3.001       2.501\n",
      "C(brand, Sum)[S.\"US Cellular\"]   1.332e-15      0.217   6.15e-15      1.000      -2.751       2.751\n",
      "C(startup, Sum)[S.\"$100\"]           0.7500      0.217      3.464      0.179      -2.001       3.501\n",
      "C(startup, Sum)[S.\"$200\"]       -4.885e-15      0.217  -2.26e-14      1.000      -2.751       2.751\n",
      "C(startup, Sum)[S.\"$300\"]       -6.217e-15      0.217  -2.87e-14      1.000      -2.751       2.751\n",
      "C(monthly, Sum)[S.\"$100\"]           5.0000      0.217     23.094      0.028       2.249       7.751\n",
      "C(monthly, Sum)[S.\"$200\"]           2.0000      0.217      9.238      0.069      -0.751       4.751\n",
      "C(monthly, Sum)[S.\"$300\"]          -1.2500      0.217     -5.774      0.109      -4.001       1.501\n",
      "C(service, Sum)[S.\"4G NO\"]         -1.7500      0.125    -14.000      0.045      -3.338      -0.162\n",
      "C(retail, Sum)[S.\"Retail NO\"]       0.2500      0.125      2.000      0.295      -1.338       1.838\n",
      "C(apple, Sum)[S.\"Apple NO\"]         0.2500      0.125      2.000      0.295      -1.338       1.838\n",
      "C(samsung, Sum)[S.\"Samsung NO\"]    -1.1250      0.125     -9.000      0.070      -2.713       0.463\n",
      "C(google, Sum)[S.\"Nexus NO\"]       -0.7500      0.125     -6.000      0.105      -2.338       0.838\n",
      "==============================================================================\n",
      "Omnibus:                       30.796   Durbin-Watson:                   2.000\n",
      "Prob(Omnibus):                  0.000   Jarque-Bera (JB):                2.667\n",
      "Skew:                           0.000   Prob(JB):                        0.264\n",
      "Kurtosis:                       1.000   Cond. No.                         2.00\n",
      "==============================================================================\n",
      "\n",
      "Notes:\n",
      "[1] Standard Errors assume that the covariance matrix of the errors is correctly specified.\n"
     ]
    }
   ],
   "source": [
    "# Set up sum contrasts for effects coding as needed for conjoint analysis using C(effect, Sum) \n",
    "# notation within main effects model specification\n",
    "main_effects_model = 'ranking ~ C(brand, Sum) + C(startup, Sum) +  \\\n",
    "    C(monthly, Sum) + C(service, Sum) + C(retail, Sum) + C(apple, Sum) + \\\n",
    "    C(samsung, Sum) + C(google, Sum)'\n",
    "\n",
    "# Fit linear regression model using main effects only (no interaction terms)\n",
    "main_effects_model_fit = \\\n",
    "    smf.ols(main_effects_model, data = conjoint_data_frame).fit()\n",
    "\n",
    "print(main_effects_model_fit.summary()) "
   ]
  },
  {
   "cell_type": "markdown",
   "metadata": {},
   "source": [
    "### Build Part-Worth Information Attribute"
   ]
  },
  {
   "cell_type": "code",
   "execution_count": 5,
   "metadata": {},
   "outputs": [
    {
     "name": "stdout",
     "output_type": "stream",
     "text": [
      "\n",
      "Attribute: Mobile Service Provider\n",
      "    Importance: 2.38\n",
      "    Level Part-Worths\n",
      "        \"AT&T\" -0.0\n",
      "        \"Verizon\" -0.25\n",
      "        \"US Cellular\" 0.0\n",
      "        \"T-Mobile\" 0.25\n",
      "\n",
      "Attribute: Start-up Cost\n",
      "    Importance: 7.14\n",
      "    Level Part-Worths\n",
      "        \"$100\" 0.75\n",
      "        \"$300\" -0.0\n",
      "        \"$400\" -0.0\n",
      "        \"$200\" -0.75\n",
      "\n",
      "Attribute: Monthly Cost\n",
      "    Importance: 51.19\n",
      "    Level Part-Worths\n",
      "        \"$100\" 5.0\n",
      "        \"$200\" 2.0\n",
      "        \"$400\" -1.25\n",
      "        \"$300\" -5.75\n",
      "\n",
      "Attribute: Offers 4G Service\n",
      "    Importance: 16.67\n",
      "    Level Part-Worths\n",
      "        \"4G NO\" -1.75\n",
      "        \"4G YES\" 1.75\n",
      "\n",
      "Attribute: Has Nearby Retail Store\n",
      "    Importance: 2.38\n",
      "    Level Part-Worths\n",
      "        \"Retail NO\" 0.25\n",
      "        \"Retail YES\" -0.25\n",
      "\n",
      "Attribute: Sells Apple Products\n",
      "    Importance: 2.38\n",
      "    Level Part-Worths\n",
      "        \"Apple NO\" 0.25\n",
      "        \"Apple YES\" -0.25\n",
      "\n",
      "Attribute: Sells Samsung Products\n",
      "    Importance: 10.71\n",
      "    Level Part-Worths\n",
      "        \"Samsung NO\" -1.12\n",
      "        \"Samsung YES\" 1.12\n",
      "\n",
      "Attribute: Sells Google/Nexus Products\n",
      "    Importance: 7.14\n",
      "    Level Part-Worths\n",
      "        \"Nexus NO\" -0.75\n",
      "        \"Nexus YES\" 0.75\n"
     ]
    }
   ],
   "source": [
    "conjoint_attributes = ['brand', 'startup', 'monthly', 'service', 'retail', 'apple', 'samsung', 'google']\n",
    "\n",
    "# build part-worth information one attribute at a time\n",
    "level_name = []\n",
    "part_worth = []\n",
    "part_worth_range = []\n",
    "end = 1  # initialize index for coefficient in params\n",
    "for item in conjoint_attributes:\n",
    "    nlevels = len(list(conjoint_data_frame[item].unique()))\n",
    "    level_name.append(list(conjoint_data_frame[item].unique())) \n",
    "    begin = end \n",
    "    end = begin + nlevels - 1\n",
    "    new_part_worth = list(main_effects_model_fit.params[begin:end])\n",
    "    new_part_worth.append((-1) * sum(new_part_worth))  \n",
    "    part_worth_range.append(max(new_part_worth) - min(new_part_worth))  \n",
    "    part_worth.append(new_part_worth)   \n",
    "    # end set to begin next iteration\n",
    "    \n",
    "# compute attribute relative importance values from ranges\n",
    "attribute_importance = []\n",
    "for item in part_worth_range:\n",
    "    attribute_importance.append(round(100 * (item / sum(part_worth_range)),2))\n",
    "    \n",
    "# user-defined dictionary for printing descriptive attribute names     \n",
    "effect_name_dict = {'brand' : 'Mobile Service Provider', \\\n",
    "    'startup' : 'Start-up Cost', 'monthly' : 'Monthly Cost', \\\n",
    "    'service' : 'Offers 4G Service', 'retail' : 'Has Nearby Retail Store', \\\n",
    "    'apple' : 'Sells Apple Products', 'samsung' : 'Sells Samsung Products', \\\n",
    "    'google' : 'Sells Google/Nexus Products'}  \n",
    " \n",
    "# report conjoint measures to console \n",
    "index = 0  # initialize for use in for-loop\n",
    "for item in conjoint_attributes:\n",
    "    print('\\nAttribute:', effect_name_dict[item])\n",
    "    print('    Importance:', attribute_importance[index])\n",
    "    print('    Level Part-Worths')\n",
    "    for level in range(len(level_name[index])):\n",
    "        print('       ',level_name[index][level], round(part_worth[index][level],2))       \n",
    "    index = index + 1"
   ]
  }
 ],
 "metadata": {
  "kernelspec": {
   "display_name": "Python 3",
   "language": "python",
   "name": "python3"
  },
  "language_info": {
   "codemirror_mode": {
    "name": "ipython",
    "version": 3
   },
   "file_extension": ".py",
   "mimetype": "text/x-python",
   "name": "python",
   "nbconvert_exporter": "python",
   "pygments_lexer": "ipython3",
   "version": "3.8.5"
  }
 },
 "nbformat": 4,
 "nbformat_minor": 4
}
