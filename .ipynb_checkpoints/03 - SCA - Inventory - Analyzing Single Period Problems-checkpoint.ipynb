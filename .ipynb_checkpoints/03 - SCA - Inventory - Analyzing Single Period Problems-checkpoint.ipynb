{
 "cells": [
  {
   "cell_type": "markdown",
   "metadata": {},
   "source": [
    "# Supply Chain Analysis: Solving Inventory Problems\n",
    "## Analyzing Single Period (Newsvendor) Problems"
   ]
  },
  {
   "cell_type": "code",
   "execution_count": null,
   "metadata": {},
   "outputs": [],
   "source": [
    "# Libraries\n",
    "import math\n",
    "import numpy as np\n",
    "import pandas as pd\n",
    "import matplotlib\n",
    "import matplotlib.pyplot as plt\n",
    "from matplotlib.ticker import (AutoMinorLocator, MultipleLocator)"
   ]
  },
  {
   "cell_type": "markdown",
   "metadata": {},
   "source": [
    "## Describe the newsvendor problem and approaches"
   ]
  },
  {
   "cell_type": "markdown",
   "metadata": {},
   "source": [
    "Newsvendor comes from the idea that newspapers are only good for one day, and you, as the seller, have to determine how many to make or how many to buy from your supplier. If you make too many, you lose money from unsold inventory. However, if you make too few, you lose money from missed sales. So the idea is to balance those two risks. \n",
    "\n",
    "There are two basic approaches to analyzing a newsvendor problem. The first is to create a data table, and there you explicitly calculate profit from each demand and order quantity scenario. So you might have a demand of 200, but if you made 2,000 of your items, such as t-shirts for a conference, then you will have a lot of unsold inventory that you're not able to sell later. The data table will show you how much the total profit changes as well. \n",
    "\n",
    "You can also analyze the problem analytically. This identifies the specific order quantity with the highest expected profit. However, it might not be possible to order exactly that amount. If your calculation tells you to order 1991.5 t-shirts, for example, you won't be able to order exactly that amount. In fact, you might have to order in increments of 100. Your question then should be how to identify the best order quantity. \n",
    "\n",
    "Well first off, best is a matter of judgment, it's not just math. Customer service and goodwill goes a long way. If your customers will be disappointed that they can't buy your t-shirt, then it makes sense to order more than you think you might need to ensure the customers aren't disappointed. And finally, you can also add salvage value to your calculations. If you want to sell a t-shirt for $20, but after the conference is over you might be able to sell it for five, as an add on to another order, then you can include that and use it in your calculations to decrease the loss from your excess inventory. It doesn't seem like newsvendor problems would come up that often, but in fact they're very common."
   ]
  },
  {
   "cell_type": "code",
   "execution_count": null,
   "metadata": {},
   "outputs": [],
   "source": []
  }
 ],
 "metadata": {
  "kernelspec": {
   "display_name": "Python 3",
   "language": "python",
   "name": "python3"
  },
  "language_info": {
   "codemirror_mode": {
    "name": "ipython",
    "version": 3
   },
   "file_extension": ".py",
   "mimetype": "text/x-python",
   "name": "python",
   "nbconvert_exporter": "python",
   "pygments_lexer": "ipython3",
   "version": "3.8.5"
  }
 },
 "nbformat": 4,
 "nbformat_minor": 4
}
