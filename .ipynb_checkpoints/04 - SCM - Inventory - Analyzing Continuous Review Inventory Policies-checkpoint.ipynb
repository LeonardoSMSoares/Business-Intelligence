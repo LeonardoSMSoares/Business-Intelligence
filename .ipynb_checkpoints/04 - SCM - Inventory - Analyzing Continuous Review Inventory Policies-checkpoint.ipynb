{
 "cells": [
  {
   "cell_type": "markdown",
   "metadata": {},
   "source": [
    "# Supply Chain Analysis: Solving Inventory Problems\n",
    "## Analyzing Continuous Review Inventory Policies"
   ]
  },
  {
   "cell_type": "code",
   "execution_count": 1,
   "metadata": {},
   "outputs": [],
   "source": [
    "# Libraries\n",
    "import numpy as np\n",
    "from scipy.stats import norm\n",
    "from scipy import stats\n",
    "import math"
   ]
  },
  {
   "cell_type": "markdown",
   "metadata": {},
   "source": [
    "## Describe level of service policies\n",
    "\n",
    "We have looked at inventory policies that follow specific rules. In other words, we ordered a set amount of inventory at set times. The implication, and actually a requirement for that kind of policy, was that we assumed that demand and costs were fixed. In other words, they were deterministic and unchanging. And of course, that's not how the real world works. \n",
    " \n",
    "So instead, most companies will choose to reorder when inventory reaches a specific level. This policy has a lot of advantages. The first is that it lets you react if demand is higher than expected. And secondly, it allows a chosen risk of running out of stock. We always want to have items on hand for when a customer wants to buy them, but that's not always possible. And the question is how you balance the risks."
   ]
  },
  {
   "cell_type": "markdown",
   "metadata": {},
   "source": [
    "<img src=\"images/level.png\"/>"
   ]
  },
  {
   "cell_type": "markdown",
   "metadata": {},
   "source": [
    "The policies that we'll take a look use a demand curve that is based on the normal distribution. The normal distribution is centered around a mean. And let's say that we want to have a level of service of 95%. In other words, based on our past demand, we want to be able to meet 95% of all orders and we will create our reorder and inventory policy around that assumption. So what do we need to do? \n",
    "\n",
    "Well, to set our policy, we need to **calculate our base stock**. That's the amount of goods that we start with. **Set a reorder point** so that we know when we need to place an order. And this is the economic order quantity from previous Jupyter Notebooks, so we're not doing away with all of that work entirely. We also **specify a risk of stocking out**, 95% or some other value. And of course, our **goal is to meet a target level of service** for our customers. We probably can't avoid losing one or two, but we don't want to lose too many. And that's where the math and our management judgment comes in handy."
   ]
  },
  {
   "cell_type": "markdown",
   "metadata": {},
   "source": [
    "## Calculate base stock required for a target level of service\n",
    "\n",
    "One of the hardest decisions in business is knowing how much inventory to keep on hand. You're always at risk of running out or stocking out if demand increases unexpectedly, but you can guard against it by buying some safety stock."
   ]
  },
  {
   "cell_type": "code",
   "execution_count": 2,
   "metadata": {},
   "outputs": [
    {
     "name": "stdout",
     "output_type": "stream",
     "text": [
      "Mean Demand During Lead Time: 180\n",
      "Std-Dev Demand During Lead Time: 17.89\n",
      "Level of Service: 0.88\n",
      "Safety Factor: 1.1868\n"
     ]
    }
   ],
   "source": [
    "mean = 36        # Daily Demand Mean\n",
    "std_dev = 8      # Daily Demand Standard Deviation\n",
    "lead_time = 5    # Lead Time (if we want to reorder, we can get your goods after 5 days)\n",
    "ce = 2           # Cost of Excess (costs 2 to hold one of these products and inventory)\n",
    "cs = 15          # Cost of Shortage (we will lose $15 of other sales if we don't have this particular product in stock)\n",
    "\n",
    "mddlt = mean * lead_time    # Mean Demand During Lead Time (we want to cover our demand on average, during the lead time) \n",
    "sdddlt = std_dev * np.sqrt(lead_time)    # Standard Deviation Demand During Lead Time\n",
    "\n",
    "lev_serv = cs/(cs+ce)    # Level of Service (critical ratio)\n",
    "\n",
    "k = norm.ppf(lev_serv)   # Safety Factor (is the value represented by the critical ratio on the standard normal curve)\n",
    "\n",
    "print('Mean Demand During Lead Time:',round(mddlt,2))\n",
    "print('Std-Dev Demand During Lead Time:',round(sdddlt,2))\n",
    "print('Level of Service:',round(lev_serv,2))\n",
    "print('Safety Factor:',round(k,4))"
   ]
  },
  {
   "cell_type": "markdown",
   "metadata": {},
   "source": [
    "In statistical terms, this Safety Factor is equivalent to being 1.1868 standard deviations above the mean."
   ]
  },
  {
   "cell_type": "code",
   "execution_count": 3,
   "metadata": {},
   "outputs": [
    {
     "name": "stdout",
     "output_type": "stream",
     "text": [
      "Base Stock: 202\n"
     ]
    }
   ],
   "source": [
    "# Base Stock (S*)\n",
    "s_star = mddlt + sdddlt * k  \n",
    "s_star = math.ceil(s_star)\n",
    "\n",
    "print('Base Stock:', s_star)"
   ]
  },
  {
   "cell_type": "markdown",
   "metadata": {},
   "source": [
    "## Determine reorder point based on cycle service level"
   ]
  },
  {
   "cell_type": "markdown",
   "metadata": {},
   "source": [
    "When you purchase goods for sale, our inventory will run through cycles. Specifically, they will run through replenishment cycles where we replace the articles that we've sold. we start with our base stock and then reorder when we need to. How much to purchase by calculating our economic order quantity but when should we place our order? \n",
    "\n",
    "Well, that depends on our demand and how willing we are to risk being out of stock. We can calculate our reorder point for a given customer service level."
   ]
  },
  {
   "cell_type": "code",
   "execution_count": 4,
   "metadata": {},
   "outputs": [
    {
     "name": "stdout",
     "output_type": "stream",
     "text": [
      "Cycle Service Level: 95.0 %\n",
      "Safety Factor: 1.6449\n",
      "Reorder Point for Target CSL: 210\n"
     ]
    }
   ],
   "source": [
    "mean = 36        # Daily Demand Mean\n",
    "std_dev = 8      # Daily Demand Standard Deviation\n",
    "lead_time = 5    # Lead Time\n",
    "eoq = 811        # Economic Order Quantity\n",
    "\n",
    "mddlt = mean * lead_time                 # Mean Demand During Lead Time\n",
    "sdddlt = std_dev * np.sqrt(lead_time)    # Standard Deviation Demand During Lead Time\n",
    "\n",
    "out_stock = 0.05       # We were willing to be out of stock 5% of the time that a customer wants to buy it\n",
    "csl = 1 - out_stock    # Cycle Service Level (the number of orders that we want to cover)\n",
    "\n",
    "# We want to know the value on the standard normal curve, where 95% of all values are to the left or less than that value\n",
    "k = norm.ppf(csl)         # Safety Factor\n",
    "rp = mddlt + sdddlt * k   # Reorder Point for Target CSL\n",
    "rp = math.ceil(rp)        # rp round up\n",
    "\n",
    "\n",
    "print('Cycle Service Level:', csl*100, '%')\n",
    "print('Safety Factor:',round(k,4))\n",
    "print('Reorder Point for Target CSL:', rp)"
   ]
  }
 ],
 "metadata": {
  "kernelspec": {
   "display_name": "Python 3",
   "language": "python",
   "name": "python3"
  },
  "language_info": {
   "codemirror_mode": {
    "name": "ipython",
    "version": 3
   },
   "file_extension": ".py",
   "mimetype": "text/x-python",
   "name": "python",
   "nbconvert_exporter": "python",
   "pygments_lexer": "ipython3",
   "version": "3.8.5"
  }
 },
 "nbformat": 4,
 "nbformat_minor": 4
}
