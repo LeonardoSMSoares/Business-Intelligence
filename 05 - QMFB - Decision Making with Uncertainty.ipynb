{
 "cells": [
  {
   "cell_type": "markdown",
   "metadata": {},
   "source": [
    "# Quantitative Methods for Business\n",
    "## Decision Making with Uncertainty"
   ]
  },
  {
   "cell_type": "code",
   "execution_count": 1,
   "metadata": {},
   "outputs": [],
   "source": [
    "#libraries\n",
    "import numpy as np\n",
    "import pandas as pd"
   ]
  },
  {
   "cell_type": "markdown",
   "metadata": {},
   "source": [
    "A restauranter is going to set up a cream tea stall at a local gala. On the morning of the gala she visits the wholesale market and has to decide whether to buy a large, medium or small quantity of strawberries, scones, cream and other materials. Her profit depends on the number of people attending the gala, and this in turn depends on the weather. If her matrix of gains (in thousands of pounds) for different weather condition is given below, what quantity or materials should she buy?\n",
    "\n",
    "|  | good | average | poor |\n",
    "| --- | --- | --- | --- |\n",
    "| large quantity | 10 | 4 | -2 |\n",
    "| medium quantity | 7 | 6 | 2 |\n",
    "| small quantity | 4 | 1 | 4 |"
   ]
  },
  {
   "cell_type": "code",
   "execution_count": 2,
   "metadata": {},
   "outputs": [
    {
     "data": {
      "text/html": [
       "<div>\n",
       "<style scoped>\n",
       "    .dataframe tbody tr th:only-of-type {\n",
       "        vertical-align: middle;\n",
       "    }\n",
       "\n",
       "    .dataframe tbody tr th {\n",
       "        vertical-align: top;\n",
       "    }\n",
       "\n",
       "    .dataframe thead th {\n",
       "        text-align: right;\n",
       "    }\n",
       "</style>\n",
       "<table border=\"1\" class=\"dataframe\">\n",
       "  <thead>\n",
       "    <tr style=\"text-align: right;\">\n",
       "      <th></th>\n",
       "      <th>Good</th>\n",
       "      <th>Average</th>\n",
       "      <th>Poor</th>\n",
       "    </tr>\n",
       "  </thead>\n",
       "  <tbody>\n",
       "    <tr>\n",
       "      <th>large quantity</th>\n",
       "      <td>10</td>\n",
       "      <td>4</td>\n",
       "      <td>-2</td>\n",
       "    </tr>\n",
       "    <tr>\n",
       "      <th>medium quantity</th>\n",
       "      <td>7</td>\n",
       "      <td>6</td>\n",
       "      <td>2</td>\n",
       "    </tr>\n",
       "    <tr>\n",
       "      <th>small quantity</th>\n",
       "      <td>4</td>\n",
       "      <td>1</td>\n",
       "      <td>4</td>\n",
       "    </tr>\n",
       "  </tbody>\n",
       "</table>\n",
       "</div>"
      ],
      "text/plain": [
       "                 Good  Average  Poor\n",
       "large quantity     10        4    -2\n",
       "medium quantity     7        6     2\n",
       "small quantity      4        1     4"
      ]
     },
     "execution_count": 2,
     "metadata": {},
     "output_type": "execute_result"
    }
   ],
   "source": [
    "# Construct the Table\n",
    "\n",
    "good = np.array([10,7,4])\n",
    "average = np.array([4,6,1])\n",
    "poor = np.array([-2,2,4])\n",
    "\n",
    "# Create a Data Frame\n",
    "data = {'Good': good, \n",
    "        'Average': average,\n",
    "        'Poor': poor}\n",
    "\n",
    "table =pd.DataFrame(data, index=['large quantity', 'medium quantity', 'small quantity'])\n",
    "\n",
    "panel = pd.DataFrame(table)\n",
    "panel"
   ]
  },
  {
   "cell_type": "code",
   "execution_count": 3,
   "metadata": {},
   "outputs": [
    {
     "data": {
      "text/html": [
       "<div>\n",
       "<style scoped>\n",
       "    .dataframe tbody tr th:only-of-type {\n",
       "        vertical-align: middle;\n",
       "    }\n",
       "\n",
       "    .dataframe tbody tr th {\n",
       "        vertical-align: top;\n",
       "    }\n",
       "\n",
       "    .dataframe thead th {\n",
       "        text-align: right;\n",
       "    }\n",
       "</style>\n",
       "<table border=\"1\" class=\"dataframe\">\n",
       "  <thead>\n",
       "    <tr style=\"text-align: right;\">\n",
       "      <th></th>\n",
       "      <th>Good</th>\n",
       "      <th>Average</th>\n",
       "      <th>Poor</th>\n",
       "      <th>Est. Profit</th>\n",
       "    </tr>\n",
       "  </thead>\n",
       "  <tbody>\n",
       "    <tr>\n",
       "      <th>large quantity</th>\n",
       "      <td>10</td>\n",
       "      <td>4</td>\n",
       "      <td>-2</td>\n",
       "      <td>4.0</td>\n",
       "    </tr>\n",
       "    <tr>\n",
       "      <th>medium quantity</th>\n",
       "      <td>7</td>\n",
       "      <td>6</td>\n",
       "      <td>2</td>\n",
       "      <td>5.0</td>\n",
       "    </tr>\n",
       "    <tr>\n",
       "      <th>small quantity</th>\n",
       "      <td>4</td>\n",
       "      <td>1</td>\n",
       "      <td>4</td>\n",
       "      <td>3.0</td>\n",
       "    </tr>\n",
       "  </tbody>\n",
       "</table>\n",
       "</div>"
      ],
      "text/plain": [
       "                 Good  Average  Poor  Est. Profit\n",
       "large quantity     10        4    -2          4.0\n",
       "medium quantity     7        6     2          5.0\n",
       "small quantity      4        1     4          3.0"
      ]
     },
     "execution_count": 3,
     "metadata": {},
     "output_type": "execute_result"
    }
   ],
   "source": [
    "# Calculate the Average Profit\n",
    "\n",
    "table['Est. Profit'] = (table['Good'] + table['Average'] + table['Poor']) /3\n",
    "\n",
    "panel"
   ]
  },
  {
   "cell_type": "code",
   "execution_count": 4,
   "metadata": {},
   "outputs": [
    {
     "name": "stdout",
     "output_type": "stream",
     "text": [
      "Max. Profit: 5.0\n",
      "Best choice: ['medium quantity']\n"
     ]
    }
   ],
   "source": [
    "# Best option\n",
    "\n",
    "maximo = table['Est. Profit'].max()\n",
    "indecx = table[table['Est. Profit'] == maximo].index.values\n",
    "\n",
    "print(\"Max. Profit:\", maximo)\n",
    "print(\"Best choice:\", indecx)"
   ]
  },
  {
   "cell_type": "markdown",
   "metadata": {},
   "source": [
    "## Wald Decision Criterion (Maxmin)\n",
    "\n",
    "* For each alternative find the worst outcome.\n",
    "* Choose the alternative from the best of these worst outcomes."
   ]
  },
  {
   "cell_type": "code",
   "execution_count": 5,
   "metadata": {},
   "outputs": [
    {
     "data": {
      "text/html": [
       "<div>\n",
       "<style scoped>\n",
       "    .dataframe tbody tr th:only-of-type {\n",
       "        vertical-align: middle;\n",
       "    }\n",
       "\n",
       "    .dataframe tbody tr th {\n",
       "        vertical-align: top;\n",
       "    }\n",
       "\n",
       "    .dataframe thead th {\n",
       "        text-align: right;\n",
       "    }\n",
       "</style>\n",
       "<table border=\"1\" class=\"dataframe\">\n",
       "  <thead>\n",
       "    <tr style=\"text-align: right;\">\n",
       "      <th></th>\n",
       "      <th>Good</th>\n",
       "      <th>Average</th>\n",
       "      <th>Poor</th>\n",
       "      <th>Est. Profit</th>\n",
       "      <th>Wald</th>\n",
       "    </tr>\n",
       "  </thead>\n",
       "  <tbody>\n",
       "    <tr>\n",
       "      <th>large quantity</th>\n",
       "      <td>10</td>\n",
       "      <td>4</td>\n",
       "      <td>-2</td>\n",
       "      <td>4.0</td>\n",
       "      <td>-2</td>\n",
       "    </tr>\n",
       "    <tr>\n",
       "      <th>medium quantity</th>\n",
       "      <td>7</td>\n",
       "      <td>6</td>\n",
       "      <td>2</td>\n",
       "      <td>5.0</td>\n",
       "      <td>2</td>\n",
       "    </tr>\n",
       "    <tr>\n",
       "      <th>small quantity</th>\n",
       "      <td>4</td>\n",
       "      <td>1</td>\n",
       "      <td>4</td>\n",
       "      <td>3.0</td>\n",
       "      <td>1</td>\n",
       "    </tr>\n",
       "  </tbody>\n",
       "</table>\n",
       "</div>"
      ],
      "text/plain": [
       "                 Good  Average  Poor  Est. Profit  Wald\n",
       "large quantity     10        4    -2          4.0    -2\n",
       "medium quantity     7        6     2          5.0     2\n",
       "small quantity      4        1     4          3.0     1"
      ]
     },
     "execution_count": 5,
     "metadata": {},
     "output_type": "execute_result"
    }
   ],
   "source": [
    "# Calculate Wald Profit\n",
    "\n",
    "table['Wald'] = table[['Good', 'Average', 'Poor']].min(axis=1)\n",
    "\n",
    "panel"
   ]
  },
  {
   "cell_type": "code",
   "execution_count": 6,
   "metadata": {},
   "outputs": [
    {
     "name": "stdout",
     "output_type": "stream",
     "text": [
      "Wald Decision Criterion: 2\n",
      "Wald choice: ['medium quantity']\n"
     ]
    }
   ],
   "source": [
    "# Conservative option\n",
    "\n",
    "maxmin = table['Wald'].max()   # Max of the Mins\n",
    "indecy = table[table['Wald'] == maxmin].index.values\n",
    "\n",
    "print(\"Wald Decision Criterion:\", maxmin)\n",
    "print(\"Wald choice:\", indecy)"
   ]
  },
  {
   "cell_type": "markdown",
   "metadata": {},
   "source": [
    "## Savage Decision Criterion\n",
    "\n",
    "1 - For each event find the best possible outcome (the best entry in each column of the payoff matrix).\n",
    "\n",
    "2 - Find the regret for every entry in the column, with is the difference between the entry itself and the best in the column.\n",
    "\n",
    "3 - Put the regrets found in Step 2 into a \"regret matrix\". There should be at least one zero in each column (for the best outcome) and regrets are always positive.\n",
    "\n",
    "4 - For each alternative find the highest regret (highest number in each row).\n",
    "\n",
    "5 - Choosee the alternative with the best (lowest) of these highest regrets.\n",
    "\n",
    "Steps 1 to 3 built a matrix, and then steps 4 and 5 apply the Wald criterion to regret matrix."
   ]
  },
  {
   "cell_type": "code",
   "execution_count": 7,
   "metadata": {},
   "outputs": [
    {
     "data": {
      "text/html": [
       "<div>\n",
       "<style scoped>\n",
       "    .dataframe tbody tr th:only-of-type {\n",
       "        vertical-align: middle;\n",
       "    }\n",
       "\n",
       "    .dataframe tbody tr th {\n",
       "        vertical-align: top;\n",
       "    }\n",
       "\n",
       "    .dataframe thead th {\n",
       "        text-align: right;\n",
       "    }\n",
       "</style>\n",
       "<table border=\"1\" class=\"dataframe\">\n",
       "  <thead>\n",
       "    <tr style=\"text-align: right;\">\n",
       "      <th></th>\n",
       "      <th>Amount</th>\n",
       "      <th>Good</th>\n",
       "      <th>Average</th>\n",
       "      <th>Poor</th>\n",
       "    </tr>\n",
       "  </thead>\n",
       "  <tbody>\n",
       "    <tr>\n",
       "      <th>0</th>\n",
       "      <td>large quantity</td>\n",
       "      <td>10</td>\n",
       "      <td>4</td>\n",
       "      <td>-2</td>\n",
       "    </tr>\n",
       "    <tr>\n",
       "      <th>1</th>\n",
       "      <td>medium quantity</td>\n",
       "      <td>7</td>\n",
       "      <td>6</td>\n",
       "      <td>2</td>\n",
       "    </tr>\n",
       "    <tr>\n",
       "      <th>2</th>\n",
       "      <td>small quantity</td>\n",
       "      <td>4</td>\n",
       "      <td>1</td>\n",
       "      <td>4</td>\n",
       "    </tr>\n",
       "  </tbody>\n",
       "</table>\n",
       "</div>"
      ],
      "text/plain": [
       "            Amount  Good  Average  Poor\n",
       "0   large quantity    10        4    -2\n",
       "1  medium quantity     7        6     2\n",
       "2   small quantity     4        1     4"
      ]
     },
     "execution_count": 7,
     "metadata": {},
     "output_type": "execute_result"
    }
   ],
   "source": [
    "# Construct the Basic Table\n",
    "\n",
    "amount = ['large quantity', 'medium quantity', 'small quantity']\n",
    "good = np.array([10,7,4])\n",
    "average = np.array([4,6,1])\n",
    "poor = np.array([-2,2,4])\n",
    "\n",
    "# Create a Data Frame\n",
    "data1 = {'Amount': amount,\n",
    "         'Good': good, \n",
    "        'Average': average,\n",
    "        'Poor': poor}\n",
    "\n",
    "table1 =pd.DataFrame(data1)\n",
    "table1"
   ]
  },
  {
   "cell_type": "code",
   "execution_count": 8,
   "metadata": {},
   "outputs": [
    {
     "data": {
      "text/html": [
       "<div>\n",
       "<style scoped>\n",
       "    .dataframe tbody tr th:only-of-type {\n",
       "        vertical-align: middle;\n",
       "    }\n",
       "\n",
       "    .dataframe tbody tr th {\n",
       "        vertical-align: top;\n",
       "    }\n",
       "\n",
       "    .dataframe thead th {\n",
       "        text-align: right;\n",
       "    }\n",
       "</style>\n",
       "<table border=\"1\" class=\"dataframe\">\n",
       "  <thead>\n",
       "    <tr style=\"text-align: right;\">\n",
       "      <th></th>\n",
       "      <th>Amount</th>\n",
       "      <th>Good</th>\n",
       "      <th>Average</th>\n",
       "      <th>Poor</th>\n",
       "    </tr>\n",
       "  </thead>\n",
       "  <tbody>\n",
       "    <tr>\n",
       "      <th>0</th>\n",
       "      <td>large quantity</td>\n",
       "      <td>0</td>\n",
       "      <td>2</td>\n",
       "      <td>6</td>\n",
       "    </tr>\n",
       "    <tr>\n",
       "      <th>1</th>\n",
       "      <td>medium quantity</td>\n",
       "      <td>3</td>\n",
       "      <td>0</td>\n",
       "      <td>2</td>\n",
       "    </tr>\n",
       "    <tr>\n",
       "      <th>2</th>\n",
       "      <td>small quantity</td>\n",
       "      <td>6</td>\n",
       "      <td>5</td>\n",
       "      <td>0</td>\n",
       "    </tr>\n",
       "  </tbody>\n",
       "</table>\n",
       "</div>"
      ],
      "text/plain": [
       "            Amount  Good  Average  Poor\n",
       "0   large quantity     0        2     6\n",
       "1  medium quantity     3        0     2\n",
       "2   small quantity     6        5     0"
      ]
     },
     "execution_count": 8,
     "metadata": {},
     "output_type": "execute_result"
    }
   ],
   "source": [
    "# Savage Decision Criterion - Step 1 to 3\n",
    "\n",
    "tab = table1.copy()\n",
    "\n",
    "maxa = tab['Good'].max()\n",
    "maxb = tab['Average'].max()\n",
    "maxc = tab['Poor'].max()\n",
    "\n",
    "tab['Good'] = maxa - tab['Good']\n",
    "tab['Average'] = maxb - tab['Average']\n",
    "tab['Poor'] = maxc - tab['Poor']\n",
    "\n",
    "tab"
   ]
  },
  {
   "cell_type": "code",
   "execution_count": 9,
   "metadata": {},
   "outputs": [
    {
     "data": {
      "text/html": [
       "<div>\n",
       "<style scoped>\n",
       "    .dataframe tbody tr th:only-of-type {\n",
       "        vertical-align: middle;\n",
       "    }\n",
       "\n",
       "    .dataframe tbody tr th {\n",
       "        vertical-align: top;\n",
       "    }\n",
       "\n",
       "    .dataframe thead th {\n",
       "        text-align: right;\n",
       "    }\n",
       "</style>\n",
       "<table border=\"1\" class=\"dataframe\">\n",
       "  <thead>\n",
       "    <tr style=\"text-align: right;\">\n",
       "      <th></th>\n",
       "      <th>Amount</th>\n",
       "      <th>Good</th>\n",
       "      <th>Average</th>\n",
       "      <th>Poor</th>\n",
       "      <th>Regrets</th>\n",
       "    </tr>\n",
       "  </thead>\n",
       "  <tbody>\n",
       "    <tr>\n",
       "      <th>0</th>\n",
       "      <td>large quantity</td>\n",
       "      <td>0</td>\n",
       "      <td>2</td>\n",
       "      <td>6</td>\n",
       "      <td>6</td>\n",
       "    </tr>\n",
       "    <tr>\n",
       "      <th>1</th>\n",
       "      <td>medium quantity</td>\n",
       "      <td>3</td>\n",
       "      <td>0</td>\n",
       "      <td>2</td>\n",
       "      <td>3</td>\n",
       "    </tr>\n",
       "    <tr>\n",
       "      <th>2</th>\n",
       "      <td>small quantity</td>\n",
       "      <td>6</td>\n",
       "      <td>5</td>\n",
       "      <td>0</td>\n",
       "      <td>6</td>\n",
       "    </tr>\n",
       "  </tbody>\n",
       "</table>\n",
       "</div>"
      ],
      "text/plain": [
       "            Amount  Good  Average  Poor  Regrets\n",
       "0   large quantity     0        2     6        6\n",
       "1  medium quantity     3        0     2        3\n",
       "2   small quantity     6        5     0        6"
      ]
     },
     "execution_count": 9,
     "metadata": {},
     "output_type": "execute_result"
    }
   ],
   "source": [
    "# Savage Decision Criterion - Step 4 to 5\n",
    "\n",
    "tab['Regrets'] = tab[['Good', 'Average', 'Poor']].max(axis=1)\n",
    "\n",
    "tab"
   ]
  },
  {
   "cell_type": "code",
   "execution_count": 10,
   "metadata": {},
   "outputs": [
    {
     "name": "stdout",
     "output_type": "stream",
     "text": [
      "Minimal Regret: 3\n",
      "Savege choice: medium quantity\n"
     ]
    }
   ],
   "source": [
    "maxminr = tab['Regrets'].min()\n",
    "\n",
    "ide = str(tab[tab['Regrets'] == maxminr]['Amount'])[0]\n",
    "ide = int(ide)\n",
    "target = tab.at[ide, 'Amount']\n",
    "# another way: tab[tab['Regrets'] == maxminr]['Amount']\n",
    "\n",
    "print(\"Minimal Regret:\", maxminr)\n",
    "print(\"Savege choice:\", target)"
   ]
  },
  {
   "cell_type": "markdown",
   "metadata": {},
   "source": [
    "## Choosing the Criterion to Use"
   ]
  },
  {
   "cell_type": "markdown",
   "metadata": {},
   "source": [
    "Lawrence Pang has a problem with the following payoff matrix of costs. Use the **Laplace**, **Wald** and **Savage** decision criterion to show the best alternatives.\n",
    "\n",
    "|  | E1 | E2 | E3 |\n",
    "| --- | --- | --- | --- |\n",
    "| action A | 14 | 22 | 6 |\n",
    "| action B | 19 | 18 | 12 |\n",
    "| action C | 12 | 17 | 15 |"
   ]
  },
  {
   "cell_type": "code",
   "execution_count": 11,
   "metadata": {},
   "outputs": [
    {
     "data": {
      "text/html": [
       "<div>\n",
       "<style scoped>\n",
       "    .dataframe tbody tr th:only-of-type {\n",
       "        vertical-align: middle;\n",
       "    }\n",
       "\n",
       "    .dataframe tbody tr th {\n",
       "        vertical-align: top;\n",
       "    }\n",
       "\n",
       "    .dataframe thead th {\n",
       "        text-align: right;\n",
       "    }\n",
       "</style>\n",
       "<table border=\"1\" class=\"dataframe\">\n",
       "  <thead>\n",
       "    <tr style=\"text-align: right;\">\n",
       "      <th></th>\n",
       "      <th>E1</th>\n",
       "      <th>E2</th>\n",
       "      <th>E3</th>\n",
       "    </tr>\n",
       "  </thead>\n",
       "  <tbody>\n",
       "    <tr>\n",
       "      <th>action A</th>\n",
       "      <td>14</td>\n",
       "      <td>22</td>\n",
       "      <td>6</td>\n",
       "    </tr>\n",
       "    <tr>\n",
       "      <th>action B</th>\n",
       "      <td>19</td>\n",
       "      <td>18</td>\n",
       "      <td>12</td>\n",
       "    </tr>\n",
       "    <tr>\n",
       "      <th>action C</th>\n",
       "      <td>12</td>\n",
       "      <td>17</td>\n",
       "      <td>15</td>\n",
       "    </tr>\n",
       "  </tbody>\n",
       "</table>\n",
       "</div>"
      ],
      "text/plain": [
       "          E1  E2  E3\n",
       "action A  14  22   6\n",
       "action B  19  18  12\n",
       "action C  12  17  15"
      ]
     },
     "execution_count": 11,
     "metadata": {},
     "output_type": "execute_result"
    }
   ],
   "source": [
    "# Construct the Table\n",
    "\n",
    "e1 = np.array([14,19,12])\n",
    "e2 = np.array([22,18,17])\n",
    "e3 = np.array([6,12,15])\n",
    "\n",
    "# Create a Data Frame\n",
    "data2 = {'E1': e1, \n",
    "        'E2': e2,\n",
    "        'E3': e3}\n",
    "\n",
    "tab2 =pd.DataFrame(data2, index=['action A', 'action B', 'action C'])\n",
    "\n",
    "tab2"
   ]
  },
  {
   "cell_type": "code",
   "execution_count": 12,
   "metadata": {},
   "outputs": [
    {
     "name": "stdout",
     "output_type": "stream",
     "text": [
      "          E1  E2  E3   Mean\n",
      "action A  14  22   6  14.00\n",
      "action B  19  18  12  16.33\n",
      "action C  12  17  15  14.67\n",
      "\n",
      "Lowest average costs: 14.0\n",
      "Laplace's choice: ['action A']\n"
     ]
    }
   ],
   "source": [
    "# Laplace = Min of the Means\n",
    "\n",
    "tab3 = tab2.copy()\n",
    "\n",
    "tab3['Mean'] = tab3[['E1', 'E2', 'E3']].mean(axis=1)\n",
    "\n",
    "minmeans = tab3['Mean'].min()\n",
    "\n",
    "indecl = tab3[tab3['Mean'] == minmeans].index.values\n",
    "\n",
    "tab3['Mean'] = tab3['Mean'].round(decimals = 2)\n",
    "\n",
    "\n",
    "print(tab3)\n",
    "print()\n",
    "print(\"Lowest average costs:\", minmeans)\n",
    "print(\"Laplace's choice:\", indecl)"
   ]
  },
  {
   "cell_type": "code",
   "execution_count": 13,
   "metadata": {},
   "outputs": [
    {
     "name": "stdout",
     "output_type": "stream",
     "text": [
      "          E1  E2  E3  High\n",
      "action A  14  22   6    22\n",
      "action B  19  18  12    19\n",
      "action C  12  17  15    17\n",
      "\n",
      "Min.Max: 17\n",
      "Wald's choice: ['action C']\n"
     ]
    }
   ],
   "source": [
    "# Wald = Min of the Maxs\n",
    "\n",
    "tab4 = tab2.copy()\n",
    "\n",
    "tab4['High'] = tab4[['E1', 'E2', 'E3']].max(axis=1)\n",
    "\n",
    "minmax = tab4['High'].min()\n",
    "\n",
    "indecw = tab4[tab4['High'] == minmax].index.values\n",
    "\n",
    "\n",
    "print(tab4)\n",
    "print()\n",
    "print(\"Min.Max:\", minmax)\n",
    "print(\"Wald's choice:\", indecw)"
   ]
  },
  {
   "cell_type": "code",
   "execution_count": 14,
   "metadata": {},
   "outputs": [
    {
     "name": "stdout",
     "output_type": "stream",
     "text": [
      "          E1  E2  E3  Regrets\n",
      "action A   5   0   9        9\n",
      "action B   0   4   3        4\n",
      "action C   7   5   0        7\n",
      "\n",
      "Minimum Regret: 4\n",
      "Savage's choice: ['action B']\n"
     ]
    }
   ],
   "source": [
    "# Savage = Regret Matrix, Min Max\n",
    "\n",
    "tab5 = tab2.copy()\n",
    "\n",
    "maxe1 = tab5['E1'].max()\n",
    "maxe2 = tab5['E2'].max()\n",
    "maxe3 = tab5['E3'].max()\n",
    "\n",
    "tab5['E1'] = maxe1 - tab5['E1']\n",
    "tab5['E2'] = maxe2 - tab5['E2']\n",
    "tab5['E3'] = maxe3 - tab5['E3']\n",
    "\n",
    "tab5['Regrets'] = tab5[['E1', 'E2', 'E3']].max(axis=1)\n",
    "minreg = tab5['Regrets'].min()\n",
    "indecs = tab5[tab5['Regrets'] == minreg].index.values\n",
    "\n",
    "print(tab5)\n",
    "print()\n",
    "print(\"Minimum Regret:\", minreg)\n",
    "print(\"Savage's choice:\", indecs)"
   ]
  },
  {
   "cell_type": "markdown",
   "metadata": {},
   "source": [
    "## Hurwicz Balanced Criterion"
   ]
  },
  {
   "cell_type": "markdown",
   "metadata": {},
   "source": [
    "Paco Menendes ran a plumbing wholesale business based in the Mexican city of Guadalajara. In the late 1990s he developed a simple valve mechanism for controlling the flow of water in domestica solar heating systems. He had to decide how to market his idea, and in the short term his options can be summarised as sell the valve locally, sell nationally through a website, enter a partnership with an existing company, or sell the patent. His returns depend on demand, which he described as high, medium, low. Using this simple model, he developed the matrix of potential annual gains show below.\n",
    "\n",
    "\n",
    "|  | High | Medium | Low |\n",
    "| --- | --- | --- | --- |\n",
    "| Market locally | 50 | 25 | -20 |\n",
    "| Use Website | 85 | 55 | -10 |\n",
    "| Partnership | 40 | 25 | 10 |\n",
    "| Sell Patent | 25 | 25 | 25 |"
   ]
  },
  {
   "cell_type": "code",
   "execution_count": 15,
   "metadata": {},
   "outputs": [
    {
     "data": {
      "text/html": [
       "<div>\n",
       "<style scoped>\n",
       "    .dataframe tbody tr th:only-of-type {\n",
       "        vertical-align: middle;\n",
       "    }\n",
       "\n",
       "    .dataframe tbody tr th {\n",
       "        vertical-align: top;\n",
       "    }\n",
       "\n",
       "    .dataframe thead th {\n",
       "        text-align: right;\n",
       "    }\n",
       "</style>\n",
       "<table border=\"1\" class=\"dataframe\">\n",
       "  <thead>\n",
       "    <tr style=\"text-align: right;\">\n",
       "      <th></th>\n",
       "      <th>High</th>\n",
       "      <th>Medium</th>\n",
       "      <th>Low</th>\n",
       "    </tr>\n",
       "  </thead>\n",
       "  <tbody>\n",
       "    <tr>\n",
       "      <th>Market locally</th>\n",
       "      <td>50</td>\n",
       "      <td>25</td>\n",
       "      <td>-20</td>\n",
       "    </tr>\n",
       "    <tr>\n",
       "      <th>Use Website</th>\n",
       "      <td>85</td>\n",
       "      <td>55</td>\n",
       "      <td>-10</td>\n",
       "    </tr>\n",
       "    <tr>\n",
       "      <th>Partnership</th>\n",
       "      <td>40</td>\n",
       "      <td>25</td>\n",
       "      <td>10</td>\n",
       "    </tr>\n",
       "    <tr>\n",
       "      <th>Sell Patent</th>\n",
       "      <td>25</td>\n",
       "      <td>25</td>\n",
       "      <td>25</td>\n",
       "    </tr>\n",
       "  </tbody>\n",
       "</table>\n",
       "</div>"
      ],
      "text/plain": [
       "                High  Medium  Low\n",
       "Market locally    50      25  -20\n",
       "Use Website       85      55  -10\n",
       "Partnership       40      25   10\n",
       "Sell Patent       25      25   25"
      ]
     },
     "execution_count": 15,
     "metadata": {},
     "output_type": "execute_result"
    }
   ],
   "source": [
    "# Construct the Basic Table\n",
    "\n",
    "high = np.array([50,85,40,25])\n",
    "medium = np.array([25,55,25,25])\n",
    "low = np.array([-20,-10,10,25])\n",
    "alpha = np.array([8,28,22,25])\n",
    "\n",
    "# Create a Data Frame\n",
    "data6 = {'High': high,\n",
    "         'Medium': medium, \n",
    "        'Low': low}\n",
    "\n",
    "tab6 =pd.DataFrame(data6, index=['Market locally', 'Use Website', 'Partnership', 'Sell Patent'])\n",
    "\n",
    "tab6"
   ]
  },
  {
   "cell_type": "code",
   "execution_count": 16,
   "metadata": {},
   "outputs": [
    {
     "name": "stdout",
     "output_type": "stream",
     "text": [
      "                High  Medium  Low  Alpha 0.4\n",
      "Market locally    50      25  -20        8.0\n",
      "Use Website       85      55  -10       28.0\n",
      "Partnership       40      25   10       22.0\n",
      "Sell Patent       25      25   25       25.0\n",
      "\n",
      "Balanced Criterion: 28.0\n",
      "Hurwicz's choice: ['Use Website']\n"
     ]
    }
   ],
   "source": [
    "# Hurwicz Balanced Criterion = aplha * best outcome + (1 - alpha) * worst outcome\n",
    "\n",
    "alpha = 0.4\n",
    "\n",
    "tabh = tab6.copy()\n",
    "tabh['Alpha 0.4'] = alpha * tabh[['High','Medium','Low']].max(axis=1) + (1-alpha) * tabh[['High','Medium','Low']].min(axis=1)\n",
    "\n",
    "maxbc = tabh['Alpha 0.4'].max()\n",
    "indech = tabh[tabh['Alpha 0.4'] == maxbc].index.values\n",
    "\n",
    "print(tabh)\n",
    "print()\n",
    "print(\"Balanced Criterion:\", maxbc)\n",
    "print(\"Hurwicz's choice:\", indech)"
   ]
  }
 ],
 "metadata": {
  "kernelspec": {
   "display_name": "Python 3",
   "language": "python",
   "name": "python3"
  },
  "language_info": {
   "codemirror_mode": {
    "name": "ipython",
    "version": 3
   },
   "file_extension": ".py",
   "mimetype": "text/x-python",
   "name": "python",
   "nbconvert_exporter": "python",
   "pygments_lexer": "ipython3",
   "version": "3.8.5"
  }
 },
 "nbformat": 4,
 "nbformat_minor": 4
}
