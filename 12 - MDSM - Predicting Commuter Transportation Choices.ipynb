{
 "cells": [
  {
   "cell_type": "markdown",
   "metadata": {},
   "source": [
    "# Marketing Data Science Modeling\n",
    "## Predicting Commuter Transportation Choices"
   ]
  },
  {
   "cell_type": "markdown",
   "metadata": {},
   "source": [
    "To predict consumer choice, we use explanatory variables from the marketing mix, such as product characteristics, advertising and promotion, or the type of distribution channel. We note consumer characteristics, observable behaviors, survey responses, and demographic data. We build the discrete choice models of economics and generalized linear models of statistics.\n",
    "\n",
    "To demonstrate choice methods, we begin with the Sydney Transportation Study. Commuters in Sydney can choose to go into the city by car or train. The response is binary, so we can use logistic regression, a generalized linear model with a logit link. The logit is the natural logarithm of the odds ratio.\n",
    "\n",
    "In the Sydney Transportation Study, 150 out of 333 commuters (45 percent) use the train. Suppose public administrators set a goal to increase public transportation usage by 10 percent. How much lower would train ticket prices have to be to achieve this goal, keeping all other variables constant? We can use the fitted logistic regression model to answer this question."
   ]
  },
  {
   "cell_type": "markdown",
   "metadata": {},
   "source": [
    "### Libraries"
   ]
  },
  {
   "cell_type": "code",
   "execution_count": 1,
   "metadata": {},
   "outputs": [],
   "source": [
    "# import packages into the workspace for this program\n",
    "from __future__ import division, print_function\n",
    "import numpy as np\n",
    "import pandas as pd\n",
    "import statsmodels.api as sm"
   ]
  },
  {
   "cell_type": "markdown",
   "metadata": {},
   "source": [
    "### Read Data"
   ]
  },
  {
   "cell_type": "code",
   "execution_count": 2,
   "metadata": {},
   "outputs": [
    {
     "data": {
      "text/html": [
       "<div>\n",
       "<style scoped>\n",
       "    .dataframe tbody tr th:only-of-type {\n",
       "        vertical-align: middle;\n",
       "    }\n",
       "\n",
       "    .dataframe tbody tr th {\n",
       "        vertical-align: top;\n",
       "    }\n",
       "\n",
       "    .dataframe thead th {\n",
       "        text-align: right;\n",
       "    }\n",
       "</style>\n",
       "<table border=\"1\" class=\"dataframe\">\n",
       "  <thead>\n",
       "    <tr style=\"text-align: right;\">\n",
       "      <th></th>\n",
       "      <th>cartime</th>\n",
       "      <th>carcost</th>\n",
       "      <th>traintime</th>\n",
       "      <th>traincost</th>\n",
       "      <th>choice</th>\n",
       "    </tr>\n",
       "  </thead>\n",
       "  <tbody>\n",
       "    <tr>\n",
       "      <th>0</th>\n",
       "      <td>70</td>\n",
       "      <td>50</td>\n",
       "      <td>64</td>\n",
       "      <td>39</td>\n",
       "      <td>TRAIN</td>\n",
       "    </tr>\n",
       "    <tr>\n",
       "      <th>1</th>\n",
       "      <td>50</td>\n",
       "      <td>230</td>\n",
       "      <td>60</td>\n",
       "      <td>32</td>\n",
       "      <td>TRAIN</td>\n",
       "    </tr>\n",
       "    <tr>\n",
       "      <th>2</th>\n",
       "      <td>50</td>\n",
       "      <td>70</td>\n",
       "      <td>58</td>\n",
       "      <td>40</td>\n",
       "      <td>CAR</td>\n",
       "    </tr>\n",
       "    <tr>\n",
       "      <th>3</th>\n",
       "      <td>60</td>\n",
       "      <td>108</td>\n",
       "      <td>93</td>\n",
       "      <td>62</td>\n",
       "      <td>CAR</td>\n",
       "    </tr>\n",
       "    <tr>\n",
       "      <th>4</th>\n",
       "      <td>70</td>\n",
       "      <td>60</td>\n",
       "      <td>68</td>\n",
       "      <td>26</td>\n",
       "      <td>TRAIN</td>\n",
       "    </tr>\n",
       "  </tbody>\n",
       "</table>\n",
       "</div>"
      ],
      "text/plain": [
       "   cartime  carcost  traintime  traincost choice\n",
       "0       70       50         64         39  TRAIN\n",
       "1       50      230         60         32  TRAIN\n",
       "2       50       70         58         40    CAR\n",
       "3       60      108         93         62    CAR\n",
       "4       70       60         68         26  TRAIN"
      ]
     },
     "execution_count": 2,
     "metadata": {},
     "output_type": "execute_result"
    }
   ],
   "source": [
    "sydney = pd.read_csv('data/sydney.csv')\n",
    "sydney.head()"
   ]
  },
  {
   "cell_type": "code",
   "execution_count": 3,
   "metadata": {},
   "outputs": [
    {
     "name": "stdout",
     "output_type": "stream",
     "text": [
      "<class 'pandas.core.frame.DataFrame'>\n",
      "RangeIndex: 333 entries, 0 to 332\n",
      "Data columns (total 5 columns):\n",
      " #   Column     Non-Null Count  Dtype \n",
      "---  ------     --------------  ----- \n",
      " 0   cartime    333 non-null    int64 \n",
      " 1   carcost    333 non-null    int64 \n",
      " 2   traintime  333 non-null    int64 \n",
      " 3   traincost  333 non-null    int64 \n",
      " 4   choice     333 non-null    object\n",
      "dtypes: int64(4), object(1)\n",
      "memory usage: 13.1+ KB\n"
     ]
    }
   ],
   "source": [
    "sydney.info()"
   ]
  },
  {
   "cell_type": "markdown",
   "metadata": {},
   "source": [
    "## Data Cleaning"
   ]
  },
  {
   "cell_type": "code",
   "execution_count": 4,
   "metadata": {},
   "outputs": [],
   "source": [
    "# dictionary object to convert string to binary integer \n",
    "response_to_binary = {'TRAIN':1, 'CAR':0}\n",
    "\n",
    "y = sydney['choice'].map(response_to_binary)\n",
    "cartime = sydney['cartime']\n",
    "carcost = sydney['carcost']\n",
    "traintime = sydney['traintime']\n",
    "traincost = sydney['traincost']"
   ]
  },
  {
   "cell_type": "markdown",
   "metadata": {},
   "source": [
    "## Logistic Regression Model"
   ]
  },
  {
   "cell_type": "code",
   "execution_count": 5,
   "metadata": {},
   "outputs": [
    {
     "name": "stdout",
     "output_type": "stream",
     "text": [
      "                 Generalized Linear Model Regression Results                  \n",
      "==============================================================================\n",
      "Dep. Variable:                 choice   No. Observations:                  333\n",
      "Model:                            GLM   Df Residuals:                      328\n",
      "Model Family:                Binomial   Df Model:                            4\n",
      "Link Function:                  logit   Scale:                          1.0000\n",
      "Method:                          IRLS   Log-Likelihood:                -136.32\n",
      "Date:                Mon, 11 Jul 2022   Deviance:                       272.63\n",
      "Time:                        21:26:01   Pearson chi2:                     326.\n",
      "No. Iterations:                     6                                         \n",
      "Covariance Type:            nonrobust                                         \n",
      "==============================================================================\n",
      "                 coef    std err          z      P>|z|      [0.025      0.975]\n",
      "------------------------------------------------------------------------------\n",
      "const         -1.4440      0.585     -2.468      0.014      -2.591      -0.297\n",
      "x1             0.0565      0.011      5.179      0.000       0.035       0.078\n",
      "x2             0.0298      0.007      4.283      0.000       0.016       0.043\n",
      "x3             0.0149      0.009      1.573      0.116      -0.004       0.034\n",
      "x4            -0.1113      0.017     -6.736      0.000      -0.144      -0.079\n",
      "==============================================================================\n"
     ]
    }
   ],
   "source": [
    "# define design matrix for the linear predictor\n",
    "Intercept = np.array([1] * len(y))\n",
    "x = np.array([Intercept, cartime, carcost, traintime, traincost]).T\n",
    "\n",
    "# generalized linear model for logistic regression\n",
    "logistic_regression = sm.GLM(y, x, family=sm.families.Binomial())\n",
    "sydney_fit = logistic_regression.fit()\n",
    "print(sydney_fit.summary())"
   ]
  },
  {
   "cell_type": "code",
   "execution_count": 6,
   "metadata": {},
   "outputs": [
    {
     "name": "stdout",
     "output_type": "stream",
     "text": [
      "Coeficient Car time: 0.0565\n",
      "Coeficient Car cost: 0.0298\n",
      "Coeficient Train time: 0.0149\n",
      "Coeficient Train cost: -0.1113\n",
      "\n",
      "How much the Train Cost is associete with choice: 10.53 %\n",
      "Probability that someone make a change: 19.15 %\n"
     ]
    }
   ],
   "source": [
    "# Probability The probability that a non-smoker will have a heart disease in the next 10 years is 0.13.\n",
    "\n",
    "print('Coeficient Car time:', 0.0565)\n",
    "print('Coeficient Car cost:', 0.0298)\n",
    "print('Coeficient Train time:', 0.0149)\n",
    "print('Coeficient Train cost:', -0.1113)\n",
    "print()\n",
    "\n",
    "# Odds ratio that associates tickes price to choice\n",
    "ortc = 1 - np.exp(-0.1113)\n",
    "print('How much the Train Cost is associete with choice:', round(ortc*100,2),'%')\n",
    "\n",
    "# Probability that someone make a change\n",
    "pc = np.exp(-1.440)/(1 + np.exp(-1.440))\n",
    "print('Probability that someone make a change:', round(pc*100,2),'%')"
   ]
  },
  {
   "cell_type": "markdown",
   "metadata": {},
   "source": [
    "## Model Accuracy"
   ]
  },
  {
   "cell_type": "code",
   "execution_count": 7,
   "metadata": {},
   "outputs": [
    {
     "name": "stdout",
     "output_type": "stream",
     "text": [
      "choice       CAR  TRAIN\n",
      "choice_pred            \n",
      "CAR          155     30\n",
      "TRAIN         28    120\n",
      "\n",
      "Percentage Correctly Predicted 0.826 \n",
      "\n"
     ]
    }
   ],
   "source": [
    "sydney['train_prob'] = sydney_fit.predict(linear = False)\n",
    "\n",
    "# function to convert probability to choice prediction\n",
    "def prob_to_response(response_prob, cutoff):\n",
    "    if(response_prob > cutoff):\n",
    "        return('TRAIN')\n",
    "    else:\n",
    "        return('CAR')\n",
    "            \n",
    "# add binary predictions to DataFrame sydney using cutoff value for the case\n",
    "sydney['choice_pred'] = \\\n",
    "    sydney['train_prob'].apply(lambda d: prob_to_response(d, cutoff = 0.50))\n",
    "    \n",
    "# evaluate performance of logistic regression model \n",
    "# obtain confusion matrix and proportion of observations correctly predicted    \n",
    "cmat = pd.crosstab(sydney['choice_pred'], sydney['choice']) \n",
    "a = float(cmat.iloc[0,0])\n",
    "b = float(cmat.iloc[0,1])\n",
    "c = float(cmat.iloc[1,0]) \n",
    "d = float(cmat.iloc[1,1])\n",
    "\n",
    "n = a + b + c + d\n",
    "predictive_accuracy = (a + d)/n  \n",
    "\n",
    "print(cmat)\n",
    "print('\\nPercentage Correctly Predicted',\\\n",
    "     round(predictive_accuracy, 3), \"\\n\")"
   ]
  },
  {
   "cell_type": "markdown",
   "metadata": {},
   "source": [
    "The resulting four-fold table or confusion matrix would show that we have correctly predicted transportation choice 82.6 percent of the time."
   ]
  }
 ],
 "metadata": {
  "kernelspec": {
   "display_name": "Python 3",
   "language": "python",
   "name": "python3"
  },
  "language_info": {
   "codemirror_mode": {
    "name": "ipython",
    "version": 3
   },
   "file_extension": ".py",
   "mimetype": "text/x-python",
   "name": "python",
   "nbconvert_exporter": "python",
   "pygments_lexer": "ipython3",
   "version": "3.8.5"
  }
 },
 "nbformat": 4,
 "nbformat_minor": 4
}
