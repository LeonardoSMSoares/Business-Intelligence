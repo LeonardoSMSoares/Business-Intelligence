{
 "cells": [
  {
   "cell_type": "markdown",
   "metadata": {},
   "source": [
    "# Quantitative Methods for Business\n",
    "## Decision Making with Risk"
   ]
  },
  {
   "cell_type": "markdown",
   "metadata": {},
   "source": [
    "Expected Value = $\\sum_{}$ [(Probability of event) x (Value outcome)]"
   ]
  },
  {
   "cell_type": "code",
   "execution_count": 1,
   "metadata": {},
   "outputs": [],
   "source": [
    "#libraries\n",
    "import numpy as np\n",
    "import pandas as pd"
   ]
  },
  {
   "cell_type": "markdown",
   "metadata": {},
   "source": [
    "What is the best alternative for the following matrix of gains?\n",
    "\n",
    "\n",
    "|  | E1 (p=0.1)| E2 (p=0.2)| E3 (p=0.6)| E4 (p=0.1) |\n",
    "| --- | --- | --- | --- | --- |\n",
    "| alternative A | 10 | 7 | 5 | 9 |\n",
    "| alternative B | 3 | 20 | 2 | 10 |\n",
    "| alternative C | 3 | 4 | 11 | 1 |\n",
    "| alternative D | 8 | 4 | 2 | 16 |"
   ]
  },
  {
   "cell_type": "code",
   "execution_count": 2,
   "metadata": {},
   "outputs": [
    {
     "data": {
      "text/html": [
       "<div>\n",
       "<style scoped>\n",
       "    .dataframe tbody tr th:only-of-type {\n",
       "        vertical-align: middle;\n",
       "    }\n",
       "\n",
       "    .dataframe tbody tr th {\n",
       "        vertical-align: top;\n",
       "    }\n",
       "\n",
       "    .dataframe thead th {\n",
       "        text-align: right;\n",
       "    }\n",
       "</style>\n",
       "<table border=\"1\" class=\"dataframe\">\n",
       "  <thead>\n",
       "    <tr style=\"text-align: right;\">\n",
       "      <th></th>\n",
       "      <th>E1</th>\n",
       "      <th>E2</th>\n",
       "      <th>E3</th>\n",
       "      <th>E4</th>\n",
       "    </tr>\n",
       "  </thead>\n",
       "  <tbody>\n",
       "    <tr>\n",
       "      <th>alternative A</th>\n",
       "      <td>10</td>\n",
       "      <td>7</td>\n",
       "      <td>5</td>\n",
       "      <td>9</td>\n",
       "    </tr>\n",
       "    <tr>\n",
       "      <th>alternative B</th>\n",
       "      <td>3</td>\n",
       "      <td>20</td>\n",
       "      <td>2</td>\n",
       "      <td>10</td>\n",
       "    </tr>\n",
       "    <tr>\n",
       "      <th>alternative C</th>\n",
       "      <td>3</td>\n",
       "      <td>4</td>\n",
       "      <td>11</td>\n",
       "      <td>1</td>\n",
       "    </tr>\n",
       "    <tr>\n",
       "      <th>alternative D</th>\n",
       "      <td>8</td>\n",
       "      <td>4</td>\n",
       "      <td>2</td>\n",
       "      <td>16</td>\n",
       "    </tr>\n",
       "  </tbody>\n",
       "</table>\n",
       "</div>"
      ],
      "text/plain": [
       "               E1  E2  E3  E4\n",
       "alternative A  10   7   5   9\n",
       "alternative B   3  20   2  10\n",
       "alternative C   3   4  11   1\n",
       "alternative D   8   4   2  16"
      ]
     },
     "execution_count": 2,
     "metadata": {},
     "output_type": "execute_result"
    }
   ],
   "source": [
    "# Construct the Basic Table\n",
    "\n",
    "e1 = np.array([10,3,3,8])\n",
    "e2 = np.array([7,20,4,4])\n",
    "e3 = np.array([5,2,11,2])\n",
    "e4 = np.array([9,10,1,16])\n",
    "\n",
    "# Create a Data Frame\n",
    "data1 = {'E1': e1,\n",
    "         'E2': e2,\n",
    "         'E3': e3,\n",
    "         'E4': e4}\n",
    "\n",
    "tab1 =pd.DataFrame(data1, index=['alternative A', 'alternative B', 'alternative C', 'alternative D'])\n",
    "\n",
    "tab1"
   ]
  },
  {
   "cell_type": "code",
   "execution_count": 3,
   "metadata": {},
   "outputs": [
    {
     "name": "stdout",
     "output_type": "stream",
     "text": [
      "               E1  E2  E3  E4  Expected\n",
      "alternative A  10   7   5   9       6.3\n",
      "alternative B   3  20   2  10       6.5\n",
      "alternative C   3   4  11   1       7.8\n",
      "alternative D   8   4   2  16       4.4\n",
      "\n",
      "Best Expected Outcome: 7.8\n",
      "Alternative choice: ['alternative C']\n"
     ]
    }
   ],
   "source": [
    "# Decision with Risk\n",
    "\n",
    "tabr = tab1.copy()\n",
    "\n",
    "p1 = 0.1\n",
    "p2 = 0.2\n",
    "p3 = 0.6\n",
    "p4 = 0.1\n",
    "\n",
    "tabr['Expected'] = p1 * tabr['E1'] + p2 * tabr['E2'] + p3 * tabr['E3'] + p4 * tabr['E4']\n",
    "\n",
    "maxdr = tabr['Expected'].max()\n",
    "indedr = tabr[tabr['Expected'] == maxdr].index.values\n",
    "\n",
    "print(tabr)\n",
    "print()\n",
    "print(\"Best Expected Outcome:\", round(maxdr,2))\n",
    "print(\"Alternative choice:\", indedr)"
   ]
  },
  {
   "cell_type": "markdown",
   "metadata": {},
   "source": [
    "## Bayes' Theorem:\n",
    "$$\n",
    "P(a/b) = \\frac{P(b/a)xP(a)}{P(b)}      or     P(a/b) = \\frac{P(a\\bigcap b)}{P(b)}\n",
    "$$"
   ]
  },
  {
   "cell_type": "markdown",
   "metadata": {},
   "source": [
    "The crowd for a sports event might be **small (with probability of 0.4)** or large. The organizers can pay a consultant to collect and analyse advance ticket sales a week before the event takes place. Then advanced sales can be classified as high, average, or low, with the probability of advanced sales conditional on crowd size given by the following table.\n",
    "\n",
    "|  | high | average | low |\n",
    "| --- | --- | --- | --- |\n",
    "| large | 0.7 | 0.3 | 0.0 |\n",
    "| small | 0.2 | 0.2 | 0.6 |\n",
    "\n",
    "The organisers must choose one of two plans in running the event, and the table below gives the net profit in thousands of euros for each combination of plan and clowd size.\n",
    "\n",
    "|  | Plan 1 | Plan 2 |\n",
    "| --- | --- | --- |\n",
    "| large | 20 | 28 |\n",
    "| small | 18 | 10 |\n",
    "\n",
    "If the organisers use information on advance sales, what decisions would maximise their expected profits? How much should they pay for the information on advance sales?"
   ]
  },
  {
   "cell_type": "code",
   "execution_count": 4,
   "metadata": {},
   "outputs": [
    {
     "name": "stdout",
     "output_type": "stream",
     "text": [
      "Expected value for Plan 1: 19.2\n",
      "Expected value for Plan 2: 20.8\n"
     ]
    }
   ],
   "source": [
    "pcl = 0.6 # probability of large crowd\n",
    "pcs = 0.4 # probability of small crowd\n",
    "\n",
    "# Expected values for the two plans:\n",
    "expec_plan1 = pcl * 20 + pcs * 18\n",
    "expec_plan2 = pcl *28 + pcs * 10\n",
    "\n",
    "print('Expected value for Plan 1:', round(expec_plan1,2))\n",
    "print('Expected value for Plan 2:', round(expec_plan2,2))"
   ]
  },
  {
   "cell_type": "code",
   "execution_count": 5,
   "metadata": {},
   "outputs": [
    {
     "name": "stdout",
     "output_type": "stream",
     "text": [
      "Probability of High Sales: 0.5\n",
      "Probability of Average Sales: 0.26\n",
      "Probability of Low Sales: 0.24\n"
     ]
    }
   ],
   "source": [
    "pl = 0.6   # probability of large\n",
    "ps = 0.4   # probability of small\n",
    "\n",
    "phig_l = 0.7  # P(hig/l)\n",
    "pave_l = 0.3  # P(ave/l)\n",
    "plow_l = 0.0  # P(low/l)\n",
    "\n",
    "phig_s = 0.2  # P(hig/s)\n",
    "pave_s = 0.2  # P(ave/s)\n",
    "plow_s = 0.6  # P(low/s)\n",
    "\n",
    "phig = phig_l * pl + phig_s * ps     # P(high) = P(h union l) + P(h union s)\n",
    "pave = pave_l * pl + pave_s * ps    # P(high) = P(h union l) + P(h union s)\n",
    "plow = plow_l * pl + plow_s * ps  # P(high) = P(h union l) + P(h union s)\n",
    "\n",
    "print('Probability of High Sales:',phig)\n",
    "print('Probability of Average Sales:',pave)\n",
    "print('Probability of Low Sales:',plow)"
   ]
  },
  {
   "cell_type": "code",
   "execution_count": 6,
   "metadata": {},
   "outputs": [
    {
     "name": "stdout",
     "output_type": "stream",
     "text": [
      "P(large crowd | high sales: 0.84\n",
      "P(large crowd | average sales: 0.69\n",
      "P(large crowd | low sales: 0.0\n",
      "\n",
      "P(small crowd | high sales: 0.16\n",
      "P(small crowd | average sales: 0.31\n",
      "P(small crowd | low sales: 1.0\n"
     ]
    }
   ],
   "source": [
    "pl_hig = (phig_l * pl)/phig     # P(l/hig) = (P(hig/l) * P(l)) / P(hig)\n",
    "pl_ave = (pave_l * pl)/pave     # P(l/ave) = (P(ave/l) * P(l)) / P(ave)\n",
    "pl_low = (plow_l * pl)/plow     # P(l/low) = (P(low/l) * P(l)) / P(low)\n",
    "\n",
    "print('P(large crowd | high sales:',round(pl_hig,2))\n",
    "print('P(large crowd | average sales:',round(pl_ave,2))\n",
    "print('P(large crowd | low sales:',round(pl_low,2))\n",
    "\n",
    "print()\n",
    "\n",
    "ps_hig = (phig_s * ps)/phig     # P(s/hig) = (P(hig/s) * P(s)) / P(hig)\n",
    "ps_ave = (pave_s * ps)/pave     # P(s/ave) = (P(ave/s) * P(s)) / P(ave)\n",
    "ps_low = (plow_s * ps)/plow     # P(s/low) = (P(low/s) * P(s)) / P(low)\n",
    "\n",
    "print('P(small crowd | high sales:',round(ps_hig,2))\n",
    "print('P(small crowd | average sales:',round(ps_ave,2))\n",
    "print('P(small crowd | low sales:',round(ps_low,2))"
   ]
  },
  {
   "cell_type": "code",
   "execution_count": 7,
   "metadata": {},
   "outputs": [
    {
     "name": "stdout",
     "output_type": "stream",
     "text": [
      "For ASH, Plan 1: 19.68\n",
      "For ASH, Plan 2: 25.12\n",
      "\n",
      "For ASA, Plan 1: 19.38\n",
      "For ASA, Plan 2: 22.46\n",
      "\n",
      "For ASL, Plan 1: 18.0\n",
      "For ASL, Plan 2: 10.0\n"
     ]
    }
   ],
   "source": [
    "# For advance sales high (ASH), we can calculate the Expected Profit:\n",
    "\n",
    "ash_plan1 = pl_hig * 20 + ps_hig * 18\n",
    "ash_plan2 = pl_hig *28 + ps_hig * 10\n",
    "\n",
    "print('For ASH, Plan 1:', round(ash_plan1,2))\n",
    "print('For ASH, Plan 2:', round(ash_plan2,2))\n",
    "print()\n",
    "\n",
    "# For advance sales average (ASA), we can calculate the Expected Profit:\n",
    "\n",
    "asa_plan1 = pl_ave * 20 + ps_ave * 18\n",
    "asa_plan2 = pl_ave *28 + ps_ave * 10\n",
    "\n",
    "print('For ASA, Plan 1:', round(asa_plan1,2))\n",
    "print('For ASA, Plan 2:', round(asa_plan2,2))\n",
    "print()\n",
    "\n",
    "# For advance sales low (ASL), we can calculate the Expected Profit:\n",
    "\n",
    "asl_plan1 = pl_low * 20 + ps_low * 18\n",
    "asl_plan2 = pl_low *28 + ps_low * 10\n",
    "\n",
    "print('For ASL, Plan 1:', round(asl_plan1,2))\n",
    "print('For ASL, Plan 2:', round(asl_plan2,2))"
   ]
  },
  {
   "cell_type": "markdown",
   "metadata": {},
   "source": [
    "**The decisions that maximise the organiser's profit are:** \n",
    "\n",
    "    When advance sales are high or average: choose plan 2.\n",
    "\n",
    "    When advance sales are low: choose plan 1."
   ]
  },
  {
   "cell_type": "code",
   "execution_count": 8,
   "metadata": {},
   "outputs": [
    {
     "name": "stdout",
     "output_type": "stream",
     "text": [
      "Overall expected value: 22.72\n"
     ]
    }
   ],
   "source": [
    "# Overalll expected value:\n",
    "\n",
    "a1 = phig * ash_plan2    # Probability of High sales * profit Plan 2\n",
    "a2 = pave * asa_plan2    # Probability of Average sales * profit Plan 2\n",
    "a3 = plow * asl_plan1    # Probability of Low sales * profit Plan 1\n",
    "\n",
    "overall = a1 + a2 + a3\n",
    "\n",
    "print('Overall expected value:', round(overall,2))"
   ]
  },
  {
   "cell_type": "code",
   "execution_count": 9,
   "metadata": {},
   "outputs": [
    {
     "name": "stdout",
     "output_type": "stream",
     "text": [
      "Benefit for sales informaton: $ 1920.0 or 9.23 %\n"
     ]
    }
   ],
   "source": [
    "# Benefit using the advance sales information X best plan without information\n",
    "\n",
    "diff = (overall - expec_plan2) * 1000  # Overall - Best Plan\n",
    "perc = (diff/(expec_plan2*1000))*100   # Percentage\n",
    "\n",
    "print('Benefit for sales informaton: $', round(diff,2), 'or', round(perc,2),'%')"
   ]
  },
  {
   "cell_type": "markdown",
   "metadata": {},
   "source": [
    "## Sequential Decisions"
   ]
  },
  {
   "cell_type": "markdown",
   "metadata": {},
   "source": [
    "Patrick O'Doyle asked his bank for a loan to expand his company. The bank managers have to decide whether or not to grant the loan. If they grant the loan, Patrick's expansion may be sucessful or it may be unsucessful. If the bank managers do not grant the loan, Patrick may continue banking as before, or he may move his account to another bank.\n",
    "\n",
    "    * grant loan -> (expansion a succes) or (expansion not a succes)\n",
    "    \n",
    "    *do not grant loan -> (Patrick continues banking) or (Patrick moves account)\n",
    "    \n",
    "Suppose that Patrick's bank currently value his business at \\\\$20.000 a year. If the manager grants the loan and the expansion succeds, the value to the bank of increased business and interest charges is $30.000 a year. If the expansion does not succed, the value to the bank declines to \\\\$10.000 because of lower volumes and an allowance writing-off bad debt. There is a **probability of 0.7** that the expansion plan will there is a **probability of 0.6** that Patrick will transfer his account to another bank."
   ]
  },
  {
   "cell_type": "code",
   "execution_count": 10,
   "metadata": {},
   "outputs": [
    {
     "name": "stdout",
     "output_type": "stream",
     "text": [
      "Expected Value for Grant Loan: 24000.0\n",
      "Expected Value for Do not Grant Loan: 8000.0\n",
      "\n",
      "Best decision for the bank: Grant Loan\n"
     ]
    }
   ],
   "source": [
    "# Expected Value for: Grant Loan\n",
    "egl = 0.7 * 30000 + 0.3 * 10000\n",
    "\n",
    "# Expected Value for: Do not Grant Loan\n",
    "eng = 0.4 * 20000 + 0.6 * 0\n",
    "\n",
    "print('Expected Value for Grant Loan:', round(egl,2))\n",
    "print('Expected Value for Do not Grant Loan:', round(eng,2))\n",
    "print()\n",
    "\n",
    "if egl > eng:\n",
    "    print('Best decision for the bank: Grant Loan')\n",
    "else:\n",
    "    print('Best decision for the bank: Do not Grant Loan')"
   ]
  }
 ],
 "metadata": {
  "kernelspec": {
   "display_name": "Python 3",
   "language": "python",
   "name": "python3"
  },
  "language_info": {
   "codemirror_mode": {
    "name": "ipython",
    "version": 3
   },
   "file_extension": ".py",
   "mimetype": "text/x-python",
   "name": "python",
   "nbconvert_exporter": "python",
   "pygments_lexer": "ipython3",
   "version": "3.8.5"
  }
 },
 "nbformat": 4,
 "nbformat_minor": 4
}
